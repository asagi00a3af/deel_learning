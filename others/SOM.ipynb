{
 "cells": [
  {
   "cell_type": "markdown",
   "metadata": {},
   "source": [
    "# SOM"
   ]
  },
  {
   "cell_type": "code",
   "execution_count": 1,
   "metadata": {},
   "outputs": [],
   "source": [
    "import numpy as np\n",
    "import matplotlib.pyplot as plt\n",
    "from tqdm import tqdm\n",
    "%matplotlib inline"
   ]
  },
  {
   "cell_type": "markdown",
   "metadata": {},
   "source": [
    "## 観測データ\n",
    "- N: データ数\n",
    "- x: 観測データ"
   ]
  },
  {
   "cell_type": "code",
   "execution_count": 2,
   "metadata": {},
   "outputs": [
    {
     "data": {
      "image/png": "[encoded data removed]",
      "text/plain": [
       "<Figure size 432x288 with 1 Axes>"
      ]
     },
     "metadata": {},
     "output_type": "display_data"
    }
   ],
   "source": [
    "N = 30\n",
    "x = np.random.randint(0, 255, (N, 3))\n",
    "\n",
    "plt.imshow(x.reshape(5, 6, 3))\n",
    "plt.show()"
   ]
  },
  {
   "cell_type": "markdown",
   "metadata": {},
   "source": [
    "## 学習\n",
    "- l: MAPの1辺の長さ\n",
    "- K: ノード数\n",
    "- T: 最大学習回数\n",
    "- τ: 近傍半径縮小パラメータ\n",
    "- y: 参照ベクトル"
   ]
  },
  {
   "cell_type": "code",
   "execution_count": 3,
   "metadata": {},
   "outputs": [
    {
     "name": "stderr",
     "output_type": "stream",
     "text": [
      "100%|██████████| 100/100 [00:52<00:00,  1.89it/s]\n"
     ]
    },
    {
     "data": {
      "image/png": "[encoded data removed]",
      "text/plain": [
       "<Figure size 432x288 with 1 Axes>"
      ]
     },
     "metadata": {},
     "output_type": "display_data"
    }
   ],
   "source": [
    "l = 30\n",
    "K = l ** 2\n",
    "T = 100\n",
    "τ = 100\n",
    "\n",
    "y = np.random.randint(0, 255, (l*l, 3))\n",
    "\n",
    "# 勝者ノード \n",
    "BMU = np.zeros(N, dtype=np.int64)\n",
    "# 学習量\n",
    "R = np.zeros((N, K))\n",
    "\n",
    "def h(z, ζ, σ):\n",
    "    return np.exp(-0.5 / (σ**2) * np.linalg.norm(z - ζ)**2)\n",
    "\n",
    "for t in tqdm(range(T)):\n",
    "    # step 1\n",
    "    for n in range(N):\n",
    "        k = np.argmin(np.linalg.norm(y - x[n], axis=1) ** 2)\n",
    "        BMU[n] = k\n",
    "    \n",
    "    # step 2\n",
    "    for n in range(N):\n",
    "        for k in range(K):\n",
    "            ζ = np.array([BMU[n]%l, BMU[n]//l]) \n",
    "            z = np.array([k%l, k//l])\n",
    "            σ = np.max((l/2 *(1 - t/τ), l/10))\n",
    "            R[n, k] = h(z, ζ, σ)\n",
    "    \n",
    "    # step 3\n",
    "    for k in range(K):\n",
    "         y[k] = (R[:, k].reshape(-1,1)*x).sum(axis=0) / R[:, k].sum()\n",
    "\n",
    "    plt.imshow(y.reshape(l,l,3))\n",
    "    plt.title('t={}'.format(t))\n",
    "    plt.savefig('results/SOM/t={:03}.png'.format(t))\n",
    "    plt.close()\n",
    "    \n",
    "plt.imshow(y.reshape(l,l,3))\n",
    "plt.show()"
   ]
  }
 ],
 "metadata": {
  "kernelspec": {
   "display_name": "Python 3",
   "language": "python",
   "name": "python3"
  },
  "language_info": {
   "codemirror_mode": {
    "name": "ipython",
    "version": 3
   },
   "file_extension": ".py",
   "mimetype": "text/x-python",
   "name": "python",
   "nbconvert_exporter": "python",
   "pygments_lexer": "ipython3",
   "version": "3.6.6"
  }
 },
 "nbformat": 4,
 "nbformat_minor": 2
}
