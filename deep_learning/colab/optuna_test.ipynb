{
  "nbformat": 4,
  "nbformat_minor": 0,
  "metadata": {
    "colab": {
      "name": "optuna_test.ipynb",
      "version": "0.3.2",
      "provenance": [],
      "collapsed_sections": [],
      "include_colab_link": true
    },
    "kernelspec": {
      "name": "python3",
      "display_name": "Python 3"
    },
    "accelerator": "GPU"
  },
  "cells": [
    {
      "cell_type": "markdown",
      "metadata": {
        "id": "view-in-github",
        "colab_type": "text"
      },
      "source": [
        "<a href=\"https://colab.research.google.com/github/shimo8810/machine_intelligence/blob/master/deep_learning/colab/optuna_test.ipynb\" target=\"_parent\"><img src=\"https://colab.research.google.com/assets/colab-badge.svg\" alt=\"Open In Colab\"/></a>"
      ]
    },
    {
      "metadata": {
        "id": "M0SXHG8yAGWI",
        "colab_type": "code",
        "outputId": "81237269-6cf0-448c-db98-61269c35067e",
        "colab": {
          "base_uri": "https://localhost:8080/",
          "height": 235
        }
      },
      "cell_type": "code",
      "source": [
        "!curl https://colab.chainer.org/install | sh -\n",
        "!pip install -q optuna"
      ],
      "execution_count": 0,
      "outputs": [
        {
          "output_type": "stream",
          "text": [
            "  % Total    % Received % Xferd  Average Speed   Time    Time     Time  Current\n",
            "                                 Dload  Upload   Total   Spent    Left  Speed\n",
            "\r  0     0    0     0    0     0      0      0 --:--:-- --:--:-- --:--:--     0\r100  1379  100  1379    0     0  11491      0 --:--:-- --:--:-- --:--:-- 11491\n",
            "+ apt -y -q install cuda-libraries-dev-9-2\n",
            "Reading package lists...\n",
            "Building dependency tree...\n",
            "Reading state information...\n",
            "cuda-libraries-dev-9-2 is already the newest version (9.2.148-1).\n",
            "0 upgraded, 0 newly installed, 0 to remove and 7 not upgraded.\n",
            "+ pip install -q cupy-cuda92  chainer \n",
            "+ set +ex\n",
            "Installation succeeded!\n"
          ],
          "name": "stdout"
        }
      ]
    },
    {
      "metadata": {
        "id": "xNoN70OsCQ6b",
        "colab_type": "code",
        "colab": {}
      },
      "cell_type": "code",
      "source": [
        "import numpy as np\n",
        "import chainer\n",
        "import chainer.functions as F\n",
        "import chainer.links as L\n",
        "import optuna"
      ],
      "execution_count": 0,
      "outputs": []
    },
    {
      "metadata": {
        "id": "DscGjQBUHvBt",
        "colab_type": "code",
        "colab": {}
      },
      "cell_type": "code",
      "source": [
        "N_TRAIN_EXAMPLES = 3000\n",
        "N_TEST_EXAMPLES = 1000\n",
        "BATCHSIZE = 128\n",
        "EPOCH = 10"
      ],
      "execution_count": 0,
      "outputs": []
    },
    {
      "metadata": {
        "id": "YTCh_3V-HFMG",
        "colab_type": "text"
      },
      "cell_type": "markdown",
      "source": [
        "## model"
      ]
    },
    {
      "metadata": {
        "id": "uh23FDWHAW5Q",
        "colab_type": "code",
        "colab": {}
      },
      "cell_type": "code",
      "source": [
        "class MLP(chainer.Chain):\n",
        "\n",
        "    def __init__(self, n_out, n_units, n_layers, activation=F.sigmoid):\n",
        "        self.activation = activation\n",
        "        super(MLP, self).__init__()\n",
        "        with self.init_scope():\n",
        "            self.fc_in = L.Linear(None, n_units)\n",
        "\n",
        "            self._forward = []\n",
        "            for i in range(n_layers):\n",
        "                name = 'fc_{}'.format(i)\n",
        "                setattr(self, name, L.Linear(None, n_units))\n",
        "                self._forward.append(name)\n",
        "\n",
        "            self.fc_out = L.Linear(None, n_out)\n",
        "            \n",
        "    def forward(self, x):\n",
        "        h = self.activation(self.fc_in(x))\n",
        "        \n",
        "        for name in self._forward:\n",
        "            l = getattr(self, name)\n",
        "            h = self.activation(l(h))\n",
        "            \n",
        "        return self.fc_out(h)\n",
        "\n",
        "def create_model(trial):\n",
        "    n_units = int(trial.suggest_discrete_uniform('n_units', 10, 100, 10))\n",
        "    n_layers = trial.suggest_int('n_layers', 1, 4)\n",
        "    activation_name = trial.suggest_categorical('activation',\n",
        "                        ['sigmoid', 'relu', 'tanh'])\n",
        "    activation = getattr(F, activation_name)\n",
        "    \n",
        "    return MLP(10, n_units, n_layers, activation)"
      ],
      "execution_count": 0,
      "outputs": []
    },
    {
      "metadata": {
        "id": "lDd8F2IQHI-v",
        "colab_type": "text"
      },
      "cell_type": "markdown",
      "source": [
        "## optimizer"
      ]
    },
    {
      "metadata": {
        "id": "kImAUfYeHHK3",
        "colab_type": "code",
        "colab": {}
      },
      "cell_type": "code",
      "source": [
        "def create_optimizer(trial, model):\n",
        "    optimizer_name = trial.suggest_categorical('optimizer',\n",
        "                     ['Adam', 'MomentumSGD'])\n",
        "    if optimizer_name == 'Adam':\n",
        "        adam_alpha = trial.suggest_loguniform('adam_alpha', 1e-5, 1e-1)\n",
        "        optimizer = chainer.optimizers.Adam(alpha=adam_alpha)\n",
        "    else:\n",
        "        momentum_sgd_lr = trial.suggest_loguniform('momentum_sgd_lr', 1e-5, 1e-1)\n",
        "        optimizer = chainer.optimizers.MomentumSGD(lr=momentum_sgd_lr)\n",
        "\n",
        "    weight_decay = trial.suggest_loguniform('weight_decay', 1e-10, 1e-3)\n",
        "    optimizer.setup(model)\n",
        "    optimizer.add_hook(chainer.optimizer.WeightDecay(weight_decay))\n",
        "    return optimizer"
      ],
      "execution_count": 0,
      "outputs": []
    },
    {
      "metadata": {
        "id": "S6zeYI5iHYPk",
        "colab_type": "text"
      },
      "cell_type": "markdown",
      "source": [
        "## objective"
      ]
    },
    {
      "metadata": {
        "id": "COz54EkNHXmR",
        "colab_type": "code",
        "colab": {}
      },
      "cell_type": "code",
      "source": [
        "def objective(trial):\n",
        "    # Model and optimizer\n",
        "    model = L.Classifier(create_model(trial))\n",
        "    optimizer = create_optimizer(trial, model)\n",
        "\n",
        "    # Dataset\n",
        "    rng = np.random.RandomState(0)\n",
        "    train, test = chainer.datasets.get_mnist()\n",
        "    train = chainer.datasets.SubDataset(\n",
        "        train, 0, N_TRAIN_EXAMPLES, order=rng.permutation(len(train)))\n",
        "    test = chainer.datasets.SubDataset(\n",
        "        test, 0, N_TEST_EXAMPLES, order=rng.permutation(len(test)))\n",
        "    train_iter = chainer.iterators.SerialIterator(train, BATCHSIZE)\n",
        "    test_iter = chainer.iterators.SerialIterator(test, BATCHSIZE, repeat=False, shuffle=False)\n",
        "    \n",
        "    # Trainer\n",
        "    updater = chainer.training.StandardUpdater(train_iter, optimizer)\n",
        "    trainer = chainer.training.Trainer(updater, (EPOCH, 'epoch'))\n",
        "    trainer.extend(chainer.training.extensions.Evaluator(test_iter, model))\n",
        "    log_report_extension = chainer.training.extensions.LogReport(log_name=None)\n",
        "    trainer.extend(chainer.training.extensions.PrintReport(\n",
        "        ['epoch', 'main/loss', 'validation/main/loss',\n",
        "         'main/accuracy', 'validation/main/accuracy']))\n",
        "    trainer.extend(log_report_extension)\n",
        "\n",
        "    # Run!\n",
        "    trainer.run()\n",
        "    \n",
        "    # Set the user attributes such as loss and accuracy for train and validation sets\n",
        "    log_last = log_report_extension.log[-1]\n",
        "    for key, value in log_last.items():\n",
        "        trial.set_user_attr(key, value)\n",
        "\n",
        "    # Return the validation error\n",
        "    val_err = 1.0 - log_report_extension.log[-1]['validation/main/accuracy']\n",
        "    return val_err"
      ],
      "execution_count": 0,
      "outputs": []
    },
    {
      "metadata": {
        "id": "y6nKsQvML-i5",
        "colab_type": "text"
      },
      "cell_type": "markdown",
      "source": [
        "## optimize"
      ]
    },
    {
      "metadata": {
        "id": "e1I7LNlEHXKF",
        "colab_type": "code",
        "outputId": "8dd9ba1b-6af5-46b2-9ba6-35fbbae25067",
        "colab": {
          "base_uri": "https://localhost:8080/",
          "height": 20365
        }
      },
      "cell_type": "code",
      "source": [
        "study = optuna.create_study()\n",
        "study.optimize(objective, n_trials=100)\n",
        "\n",
        "print('Number of finished trials: ', len(study.trials))\n",
        "\n",
        "print('Best trial:')\n",
        "trial = study.best_trial\n",
        "\n",
        "print('  Value: ', trial.value)\n",
        "\n",
        "print('  Params: ')\n",
        "for key, value in trial.params.items():\n",
        "    print('    {}: {}'.format(key, value))\n",
        "\n",
        "print('  User attrs:')\n",
        "for key, value in trial.user_attrs.items():\n",
        "    print('    {}: {}'.format(key, value))"
      ],
      "execution_count": 0,
      "outputs": [
        {
          "output_type": "stream",
          "text": [
            "epoch       main/loss   validation/main/loss  main/accuracy  validation/main/accuracy\n",
            "\u001b[J1           2.07738     1.79547               0.356771       0.646184                  \n",
            "\u001b[J2           1.62434     1.43707               0.700747       0.764648                  \n",
            "\u001b[J3           1.32127     1.18216               0.775065       0.810472                  \n",
            "\u001b[J4           1.1118      1.00403               0.820992       0.83774                   \n",
            "\u001b[J5           0.952693    0.869514              0.843099       0.860352                  \n",
            "\u001b[J6           0.827092    0.767789              0.856997       0.86591                   \n",
            "\u001b[J7           0.735396    0.688137              0.869141       0.877554                  \n",
            "\u001b[J8           0.657666    0.628023              0.878736       0.882662                  \n",
            "\u001b[J9           0.595927    0.574053              0.890965       0.88732                   \n"
          ],
          "name": "stdout"
        },
        {
          "output_type": "stream",
          "text": [
            "[I 2018-12-03 17:40:26,246] Finished a trial resulted in value: 0.10975059866905212. Current best value is 0.10975059866905212 with parameters: {'n_units': 30.0, 'n_layers': 1, 'activation': 'tanh', 'optimizer': 'Adam', 'adam_alpha': 0.0005071164751030867, 'weight_decay': 9.379027769101591e-06}.\n"
          ],
          "name": "stderr"
        },
        {
          "output_type": "stream",
          "text": [
            "epoch       main/loss   validation/main/loss  main/accuracy  validation/main/accuracy\n",
            "\u001b[J1           2.28589     2.2558                0.148112       0.270808                  \n",
            "\u001b[J2           2.19905     2.10375               0.317935       0.348032                  \n",
            "\u001b[J3           1.93406     1.70643               0.398438       0.461238                  \n",
            "\u001b[J4           1.44943     1.13387               0.523438       0.652794                  \n",
            "\u001b[J5           0.951819    0.819519              0.695638       0.707632                  \n",
            "\u001b[J6           0.719757    0.636095              0.764266       0.803861                  \n",
            "\u001b[J7           0.579517    0.558633              0.823242       0.838642                  \n",
            "\u001b[J8           0.496562    0.518161              0.844769       0.844501                  \n",
            "\u001b[J9           0.419396    0.480121              0.873641       0.864258                  \n"
          ],
          "name": "stdout"
        },
        {
          "output_type": "stream",
          "text": [
            "[I 2018-12-03 17:40:29,435] Finished a trial resulted in value: 0.12454927712678909. Current best value is 0.10975059866905212 with parameters: {'n_units': 30.0, 'n_layers': 1, 'activation': 'tanh', 'optimizer': 'Adam', 'adam_alpha': 0.0005071164751030867, 'weight_decay': 9.379027769101591e-06}.\n"
          ],
          "name": "stderr"
        },
        {
          "output_type": "stream",
          "text": [
            "epoch       main/loss   validation/main/loss  main/accuracy  validation/main/accuracy\n",
            "\u001b[J1           0.826892    0.402956              0.739258       0.888146                  \n",
            "\u001b[J2           0.334832    0.380677              0.901155       0.888897                  \n",
            "\u001b[J3           0.238626    0.440023              0.930664       0.857647                  \n",
            "\u001b[J4           0.191056    0.352075              0.93716        0.90595                   \n",
            "\u001b[J5           0.144518    0.348676              0.955078       0.894982                  \n",
            "\u001b[J6           0.113083    0.37522               0.961957       0.902494                  \n",
            "\u001b[J7           0.099311    0.355573              0.968099       0.911283                  \n",
            "\u001b[J8           0.0788153   0.404464              0.974185       0.90933                   \n",
            "\u001b[J9           0.0943414   0.472901              0.966712       0.880334                  \n"
          ],
          "name": "stdout"
        },
        {
          "output_type": "stream",
          "text": [
            "[I 2018-12-03 17:40:32,681] Finished a trial resulted in value: 0.09990985691547394. Current best value is 0.09990985691547394 with parameters: {'n_units': 40.0, 'n_layers': 2, 'activation': 'tanh', 'optimizer': 'Adam', 'adam_alpha': 0.019632773367357345, 'weight_decay': 6.651464505592555e-09}.\n"
          ],
          "name": "stderr"
        },
        {
          "output_type": "stream",
          "text": [
            "epoch       main/loss   validation/main/loss  main/accuracy  validation/main/accuracy\n",
            "\u001b[J1           1.12441     0.558202              0.605143       0.82204                   \n",
            "\u001b[J2           0.424379    0.3952                0.871943       0.878606                  \n",
            "\u001b[J3           0.265076    0.37227               0.913086       0.903921                  \n",
            "\u001b[J4           0.21075     0.416742              0.933764       0.879132                  \n",
            "\u001b[J5           0.196913    0.379329              0.932943       0.901517                  \n",
            "\u001b[J6           0.164828    0.462399              0.947011       0.886418                  \n",
            "\u001b[J7           0.135362    0.442228              0.955729       0.901517                  \n",
            "\u001b[J8           0.148197    0.429645              0.952446       0.897085                  \n",
            "\u001b[J9           0.162912    0.325149              0.949049       0.923453                  \n"
          ],
          "name": "stdout"
        },
        {
          "output_type": "stream",
          "text": [
            "[I 2018-12-03 17:40:35,556] Finished a trial resulted in value: 0.10314002633094788. Current best value is 0.09990985691547394 with parameters: {'n_units': 40.0, 'n_layers': 2, 'activation': 'tanh', 'optimizer': 'Adam', 'adam_alpha': 0.019632773367357345, 'weight_decay': 6.651464505592555e-09}.\n"
          ],
          "name": "stderr"
        },
        {
          "output_type": "stream",
          "text": [
            "epoch       main/loss   validation/main/loss  main/accuracy  validation/main/accuracy\n",
            "\u001b[J1           2.30193     2.2975                0.0839844      0.0872145                 \n",
            "\u001b[J2           2.29239     2.28844               0.094769       0.0981821                 \n",
            "\u001b[J3           2.28403     2.27917               0.106445       0.105243                  \n",
            "\u001b[J4           2.27391     2.27011               0.113451       0.119141                  \n",
            "\u001b[J5           2.2658      2.26093               0.123372       0.133038                  \n",
            "\u001b[J6           2.25565     2.25194               0.138587       0.145959                  \n",
            "\u001b[J7           2.24827     2.24268               0.151693       0.161208                  \n",
            "\u001b[J8           2.23889     2.23368               0.165082       0.178035                  \n",
            "\u001b[J9           2.22978     2.22475               0.182065       0.191932                  \n"
          ],
          "name": "stdout"
        },
        {
          "output_type": "stream",
          "text": [
            "[I 2018-12-03 17:40:39,087] Finished a trial resulted in value: 0.7829777635633945. Current best value is 0.09990985691547394 with parameters: {'n_units': 40.0, 'n_layers': 2, 'activation': 'tanh', 'optimizer': 'Adam', 'adam_alpha': 0.019632773367357345, 'weight_decay': 6.651464505592555e-09}.\n"
          ],
          "name": "stderr"
        },
        {
          "output_type": "stream",
          "text": [
            "epoch       main/loss   validation/main/loss  main/accuracy  validation/main/accuracy\n",
            "\u001b[J1           2.42438     2.40094               0.108398       0.0935998                 \n",
            "\u001b[J2           2.41728     2.39457               0.109035       0.0935998                 \n",
            "\u001b[J3           2.41343     2.38824               0.107096       0.0935998                 \n",
            "\u001b[J4           2.40459     2.38239               0.109375       0.0935998                 \n",
            "\u001b[J5           2.39516     2.37647               0.110677       0.0935998                 \n",
            "\u001b[J6           2.39404     2.37107               0.108356       0.0935998                 \n",
            "\u001b[J7           2.38715     2.36564               0.105469       0.0935998                 \n",
            "\u001b[J8           2.38008     2.36064               0.111073       0.0935998                 \n",
            "\u001b[J9           2.37668     2.35571               0.108356       0.0935998                 \n"
          ],
          "name": "stdout"
        },
        {
          "output_type": "stream",
          "text": [
            "[I 2018-12-03 17:40:41,910] Finished a trial resulted in value: 0.9064002400264144. Current best value is 0.09990985691547394 with parameters: {'n_units': 40.0, 'n_layers': 2, 'activation': 'tanh', 'optimizer': 'Adam', 'adam_alpha': 0.019632773367357345, 'weight_decay': 6.651464505592555e-09}.\n"
          ],
          "name": "stderr"
        },
        {
          "output_type": "stream",
          "text": [
            "epoch       main/loss   validation/main/loss  main/accuracy  validation/main/accuracy\n",
            "\u001b[J1           2.32236     2.30815               0.112305       0.121845                  \n",
            "\u001b[J2           2.32057     2.3047                0.11481        0.125977                  \n",
            "\u001b[J3           2.31776     2.301                 0.114258       0.12793                   \n",
            "\u001b[J4           2.31277     2.29742               0.118886       0.129883                  \n",
            "\u001b[J5           2.30909     2.29373               0.117839       0.129883                  \n",
            "\u001b[J6           2.30713     2.2902                0.119905       0.132812                  \n",
            "\u001b[J7           2.30172     2.28652               0.125          0.134766                  \n",
            "\u001b[J8           2.30056     2.28302               0.12466        0.138897                  \n",
            "\u001b[J9           2.29509     2.27953               0.129076       0.142803                  \n"
          ],
          "name": "stdout"
        },
        {
          "output_type": "stream",
          "text": [
            "[I 2018-12-03 17:40:45,457] Finished a trial resulted in value: 0.8542668260633945. Current best value is 0.09990985691547394 with parameters: {'n_units': 40.0, 'n_layers': 2, 'activation': 'tanh', 'optimizer': 'Adam', 'adam_alpha': 0.019632773367357345, 'weight_decay': 6.651464505592555e-09}.\n"
          ],
          "name": "stderr"
        },
        {
          "output_type": "stream",
          "text": [
            "epoch       main/loss   validation/main/loss  main/accuracy  validation/main/accuracy\n",
            "\u001b[J1           1.98683     1.58214               0.414714       0.641827                  \n",
            "\u001b[J2           1.29679     1.02504               0.707201       0.780273                  \n",
            "\u001b[J3           0.889826    0.733095              0.789062       0.840445                  \n",
            "\u001b[J4           0.668821    0.588559              0.849524       0.859225                  \n",
            "\u001b[J5           0.539175    0.503946              0.873698       0.875826                  \n",
            "\u001b[J6           0.455254    0.450191              0.892323       0.882061                  \n",
            "\u001b[J7           0.400906    0.410393              0.90332        0.887921                  \n",
            "\u001b[J8           0.361976    0.387465              0.915421       0.888672                  \n",
            "\u001b[J9           0.327065    0.381152              0.920856       0.891602                  \n"
          ],
          "name": "stdout"
        },
        {
          "output_type": "stream",
          "text": [
            "[I 2018-12-03 17:40:48,696] Finished a trial resulted in value: 0.10599458962678909. Current best value is 0.09990985691547394 with parameters: {'n_units': 40.0, 'n_layers': 2, 'activation': 'tanh', 'optimizer': 'Adam', 'adam_alpha': 0.019632773367357345, 'weight_decay': 6.651464505592555e-09}.\n"
          ],
          "name": "stderr"
        },
        {
          "output_type": "stream",
          "text": [
            "epoch       main/loss   validation/main/loss  main/accuracy  validation/main/accuracy\n",
            "\u001b[J1           2.30784     2.29521               0.122721       0.161133                  \n",
            "\u001b[J2           2.28845     2.27819               0.163383       0.193059                  \n",
            "\u001b[J3           2.27164     2.26037               0.207357       0.255183                  \n",
            "\u001b[J4           2.25436     2.24301               0.267663       0.32805                   \n",
            "\u001b[J5           2.23568     2.22338               0.329753       0.359525                  \n",
            "\u001b[J6           2.21638     2.20337               0.370584       0.398738                  \n",
            "\u001b[J7           2.19526     2.1803                0.401367       0.432317                  \n",
            "\u001b[J8           2.17194     2.15617               0.431386       0.454477                  \n",
            "\u001b[J9           2.14536     2.1293                0.451427       0.474684                  \n"
          ],
          "name": "stdout"
        },
        {
          "output_type": "stream",
          "text": [
            "[I 2018-12-03 17:40:52,326] Finished a trial resulted in value: 0.49729567393660545. Current best value is 0.09990985691547394 with parameters: {'n_units': 40.0, 'n_layers': 2, 'activation': 'tanh', 'optimizer': 'Adam', 'adam_alpha': 0.019632773367357345, 'weight_decay': 6.651464505592555e-09}.\n"
          ],
          "name": "stderr"
        },
        {
          "output_type": "stream",
          "text": [
            "epoch       main/loss   validation/main/loss  main/accuracy  validation/main/accuracy\n",
            "\u001b[J1           2.2813      2.25292               0.161458       0.219501                  \n",
            "\u001b[J2           2.21143     2.17745               0.324728       0.355694                  \n",
            "\u001b[J3           2.11553     2.06379               0.40332        0.411734                  \n",
            "\u001b[J4           1.97918     1.9105                0.450068       0.434946                  \n",
            "\u001b[J5           1.80118     1.7215                0.495443       0.483699                  \n",
            "\u001b[J6           1.60572     1.53486               0.545177       0.550406                  \n",
            "\u001b[J7           1.42245     1.34842               0.603841       0.620042                  \n",
            "\u001b[J8           1.25565     1.1862                0.655231       0.718825                  \n",
            "\u001b[J9           1.10272     1.04646               0.731658       0.793194                  \n"
          ],
          "name": "stdout"
        },
        {
          "output_type": "stream",
          "text": [
            "[I 2018-12-03 17:40:55,415] Finished a trial resulted in value: 0.18096454441547394. Current best value is 0.09990985691547394 with parameters: {'n_units': 40.0, 'n_layers': 2, 'activation': 'tanh', 'optimizer': 'Adam', 'adam_alpha': 0.019632773367357345, 'weight_decay': 6.651464505592555e-09}.\n"
          ],
          "name": "stderr"
        },
        {
          "output_type": "stream",
          "text": [
            "epoch       main/loss   validation/main/loss  main/accuracy  validation/main/accuracy\n",
            "\u001b[J1           2.45103     2.43359               0.101562       0.0836088                 \n",
            "\u001b[J2           2.44866     2.43232               0.101902       0.0836088                 \n",
            "\u001b[J3           2.44755     2.43101               0.101562       0.0836088                 \n",
            "\u001b[J4           2.44698     2.42972               0.102582       0.0836088                 \n",
            "\u001b[J5           2.44202     2.4284                0.101237       0.0836088                 \n",
            "\u001b[J6           2.44568     2.42717               0.103261       0.0836088                 \n",
            "\u001b[J7           2.44426     2.42588               0.101562       0.0836088                 \n",
            "\u001b[J8           2.43901     2.42464               0.101562       0.0836088                 \n",
            "\u001b[J9           2.44        2.42343               0.103261       0.0836088                 \n"
          ],
          "name": "stdout"
        },
        {
          "output_type": "stream",
          "text": [
            "[I 2018-12-03 17:40:58,153] Finished a trial resulted in value: 0.9163912255316973. Current best value is 0.09990985691547394 with parameters: {'n_units': 40.0, 'n_layers': 2, 'activation': 'tanh', 'optimizer': 'Adam', 'adam_alpha': 0.019632773367357345, 'weight_decay': 6.651464505592555e-09}.\n"
          ],
          "name": "stderr"
        },
        {
          "output_type": "stream",
          "text": [
            "epoch       main/loss   validation/main/loss  main/accuracy  validation/main/accuracy\n",
            "\u001b[J1           2.03479     1.73275               0.40918        0.644907                  \n",
            "\u001b[J2           1.53646     1.30807               0.682065       0.749474                  \n",
            "\u001b[J3           1.16732     1.00933               0.757812       0.811373                  \n",
            "\u001b[J4           0.927015    0.819                 0.815557       0.845703                  \n",
            "\u001b[J5           0.759651    0.687222              0.849935       0.861553                  \n",
            "\u001b[J6           0.644787    0.605978              0.873302       0.870568                  \n",
            "\u001b[J7           0.557629    0.533066              0.893555       0.880559                  \n",
            "\u001b[J8           0.493068    0.482762              0.898438       0.891001                  \n",
            "\u001b[J9           0.448173    0.445681              0.90591        0.897837                  \n"
          ],
          "name": "stdout"
        },
        {
          "output_type": "stream",
          "text": [
            "[I 2018-12-03 17:41:02,191] Finished a trial resulted in value: 0.10389122366905212. Current best value is 0.09990985691547394 with parameters: {'n_units': 40.0, 'n_layers': 2, 'activation': 'tanh', 'optimizer': 'Adam', 'adam_alpha': 0.019632773367357345, 'weight_decay': 6.651464505592555e-09}.\n"
          ],
          "name": "stderr"
        },
        {
          "output_type": "stream",
          "text": [
            "epoch       main/loss   validation/main/loss  main/accuracy  validation/main/accuracy\n",
            "\u001b[J1           2.33837     2.29037               0.106445       0.266226                  \n",
            "\u001b[J2           2.24557     2.17989               0.162364       0.330829                  \n",
            "\u001b[J3           2.084       1.89743               0.364909       0.585036                  \n",
            "\u001b[J4           1.68724     1.41023               0.541101       0.594126                  \n",
            "\u001b[J5           1.23833     1.02804               0.651367       0.70613                   \n",
            "\u001b[J6           0.950366    0.81333               0.728261       0.791166                  \n",
            "\u001b[J7           0.761777    0.670083              0.786784       0.817758                  \n",
            "\u001b[J8           0.628276    0.583493              0.826766       0.834811                  \n",
            "\u001b[J9           0.537358    0.517559              0.866168       0.853065                  \n"
          ],
          "name": "stdout"
        },
        {
          "output_type": "stream",
          "text": [
            "[I 2018-12-03 17:41:04,680] Finished a trial resulted in value: 0.13694410771131516. Current best value is 0.09990985691547394 with parameters: {'n_units': 40.0, 'n_layers': 2, 'activation': 'tanh', 'optimizer': 'Adam', 'adam_alpha': 0.019632773367357345, 'weight_decay': 6.651464505592555e-09}.\n"
          ],
          "name": "stderr"
        },
        {
          "output_type": "stream",
          "text": [
            "epoch       main/loss   validation/main/loss  main/accuracy  validation/main/accuracy\n",
            "\u001b[J1           1.23916     0.655187              0.566732       0.801007                  \n",
            "\u001b[J2           0.55948     0.56343               0.834239       0.851487                  \n",
            "\u001b[J3           0.477148    0.622356              0.874023       0.841647                  \n",
            "\u001b[J4           0.496439    0.550813              0.863791       0.855619                  \n",
            "\u001b[J5           0.397979    0.534013              0.885742       0.872746                  \n",
            "\u001b[J6           0.378588    0.573276              0.897079       0.855844                  \n",
            "\u001b[J7           0.414891    0.588919              0.886068       0.859901                  \n",
            "\u001b[J8           0.360235    0.561813              0.894022       0.86869                   \n",
            "\u001b[J9           0.407956    0.641611              0.892323       0.797551                  \n"
          ],
          "name": "stdout"
        },
        {
          "output_type": "stream",
          "text": [
            "[I 2018-12-03 17:41:08,780] Finished a trial resulted in value: 0.13844651728868484. Current best value is 0.09990985691547394 with parameters: {'n_units': 40.0, 'n_layers': 2, 'activation': 'tanh', 'optimizer': 'Adam', 'adam_alpha': 0.019632773367357345, 'weight_decay': 6.651464505592555e-09}.\n"
          ],
          "name": "stderr"
        },
        {
          "output_type": "stream",
          "text": [
            "epoch       main/loss   validation/main/loss  main/accuracy  validation/main/accuracy\n",
            "\u001b[J1           1.09423     0.569815              0.623372       0.80942                   \n",
            "\u001b[J2           0.572551    0.616981              0.817935       0.825496                  \n",
            "\u001b[J3           0.460311    0.565366              0.861003       0.839994                  \n",
            "\u001b[J4           0.354942    0.502805              0.882812       0.846304                  \n",
            "\u001b[J5           0.341625    0.490637              0.897461       0.853065                  \n",
            "\u001b[J6           0.350883    0.517866              0.895041       0.851037                  \n",
            "\u001b[J7           0.322134    0.453306              0.903646       0.887395                  \n",
            "\u001b[J8           0.290294    0.438377              0.909647       0.878606                  \n",
            "\u001b[J9           0.320716    0.527996              0.901834       0.858323                  \n"
          ],
          "name": "stdout"
        },
        {
          "output_type": "stream",
          "text": [
            "[I 2018-12-03 17:41:11,637] Finished a trial resulted in value: 0.16774339228868484. Current best value is 0.09990985691547394 with parameters: {'n_units': 40.0, 'n_layers': 2, 'activation': 'tanh', 'optimizer': 'Adam', 'adam_alpha': 0.019632773367357345, 'weight_decay': 6.651464505592555e-09}.\n"
          ],
          "name": "stderr"
        },
        {
          "output_type": "stream",
          "text": [
            "epoch       main/loss   validation/main/loss  main/accuracy  validation/main/accuracy\n",
            "\u001b[J1           2.31763     2.31268               0.102214       0.0920974                 \n",
            "\u001b[J2           2.29123     2.28255               0.111073       0.102614                  \n",
            "\u001b[J3           2.26144     2.25262               0.142578       0.124549                  \n",
            "\u001b[J4           2.23756     2.22509               0.179688       0.1721                    \n",
            "\u001b[J5           2.21029     2.19825               0.224935       0.213717                  \n",
            "\u001b[J6           2.18524     2.17386               0.266304       0.264198                  \n",
            "\u001b[J7           2.16389     2.14932               0.302409       0.307843                  \n",
            "\u001b[J8           2.13732     2.1268                0.345788       0.34683                   \n",
            "\u001b[J9           2.11923     2.10505               0.374321       0.38116                   \n"
          ],
          "name": "stdout"
        },
        {
          "output_type": "stream",
          "text": [
            "[I 2018-12-03 17:41:14,861] Finished a trial resulted in value: 0.5849609375. Current best value is 0.09990985691547394 with parameters: {'n_units': 40.0, 'n_layers': 2, 'activation': 'tanh', 'optimizer': 'Adam', 'adam_alpha': 0.019632773367357345, 'weight_decay': 6.651464505592555e-09}.\n"
          ],
          "name": "stderr"
        },
        {
          "output_type": "stream",
          "text": [
            "epoch       main/loss   validation/main/loss  main/accuracy  validation/main/accuracy\n",
            "\u001b[J1           2.25585     1.79701               0.180664       0.334059                  \n",
            "\u001b[J2           1.52827     1.24282               0.401155       0.550331                  \n",
            "\u001b[J3           1.14463     1.03466               0.548503       0.607948                  \n",
            "\u001b[J4           0.855334    0.791058              0.681726       0.763071                  \n",
            "\u001b[J5           0.650643    0.599009              0.779622       0.814378                  \n",
            "\u001b[J6           0.499143    0.621731              0.848505       0.80604                   \n",
            "\u001b[J7           0.467203    0.572237              0.851562       0.819862                  \n",
            "\u001b[J8           0.430075    0.565136              0.865489       0.84375                   \n",
            "\u001b[J9           0.376434    0.502739              0.889266       0.866211                  \n"
          ],
          "name": "stdout"
        },
        {
          "output_type": "stream",
          "text": [
            "[I 2018-12-03 17:41:18,165] Finished a trial resulted in value: 0.14625901728868484. Current best value is 0.09990985691547394 with parameters: {'n_units': 40.0, 'n_layers': 2, 'activation': 'tanh', 'optimizer': 'Adam', 'adam_alpha': 0.019632773367357345, 'weight_decay': 6.651464505592555e-09}.\n"
          ],
          "name": "stderr"
        },
        {
          "output_type": "stream",
          "text": [
            "epoch       main/loss   validation/main/loss  main/accuracy  validation/main/accuracy\n",
            "\u001b[J1           1.59025     0.938794              0.423177       0.655799                  \n",
            "\u001b[J2           0.765901    0.740643              0.731997       0.775992                  \n",
            "\u001b[J3           0.495617    0.520038              0.84082        0.835938                  \n",
            "\u001b[J4           0.407893    0.479923              0.867527       0.862755                  \n",
            "\u001b[J5           0.331924    0.472109              0.894857       0.870568                  \n",
            "\u001b[J6           0.286875    0.416664              0.915082       0.880559                  \n",
            "\u001b[J7           0.280205    0.52613               0.909505       0.855995                  \n",
            "\u001b[J8           0.29728     0.461349              0.907609       0.88101                   \n",
            "\u001b[J9           0.273935    0.525033              0.914742       0.861553                  \n"
          ],
          "name": "stdout"
        },
        {
          "output_type": "stream",
          "text": [
            "[I 2018-12-03 17:41:20,488] Finished a trial resulted in value: 0.1313100978732109. Current best value is 0.09990985691547394 with parameters: {'n_units': 40.0, 'n_layers': 2, 'activation': 'tanh', 'optimizer': 'Adam', 'adam_alpha': 0.019632773367357345, 'weight_decay': 6.651464505592555e-09}.\n"
          ],
          "name": "stderr"
        },
        {
          "output_type": "stream",
          "text": [
            "epoch       main/loss   validation/main/loss  main/accuracy  validation/main/accuracy\n",
            "\u001b[J1           2.15913     1.20534               0.320638       0.576547                  \n",
            "\u001b[J2           1.07372     0.9387                0.63587        0.663311                  \n",
            "\u001b[J3           0.859597    0.883235              0.708984       0.709059                  \n",
            "\u001b[J4           0.743774    0.803116              0.766984       0.745493                  \n",
            "\u001b[J5           0.680203    0.725766              0.777344       0.766001                  \n",
            "\u001b[J6           0.608814    0.734717              0.807065       0.775015                  \n",
            "\u001b[J7           0.639915    0.738334              0.791341       0.776217                  \n",
            "\u001b[J8           0.616091    0.785398              0.805027       0.785907                  \n",
            "\u001b[J9           0.604191    0.790277              0.802649       0.770883                  \n"
          ],
          "name": "stdout"
        },
        {
          "output_type": "stream",
          "text": [
            "[I 2018-12-03 17:41:23,331] Finished a trial resulted in value: 0.2265625. Current best value is 0.09990985691547394 with parameters: {'n_units': 40.0, 'n_layers': 2, 'activation': 'tanh', 'optimizer': 'Adam', 'adam_alpha': 0.019632773367357345, 'weight_decay': 6.651464505592555e-09}.\n"
          ],
          "name": "stderr"
        },
        {
          "output_type": "stream",
          "text": [
            "epoch       main/loss   validation/main/loss  main/accuracy  validation/main/accuracy\n",
            "\u001b[J1           3.22017     1.1543                0.354492       0.567082                  \n",
            "\u001b[J2           1.0487      0.881831              0.620245       0.681791                  \n",
            "\u001b[J3           0.823128    0.746689              0.716146       0.760216                  \n",
            "\u001b[J4           0.650486    0.742918              0.781929       0.755559                  \n",
            "\u001b[J5           0.593776    0.682122              0.807943       0.810171                  \n",
            "\u001b[J6           0.567402    0.619461              0.815217       0.824444                  \n",
            "\u001b[J7           0.577318    0.61393               0.810872       0.832031                  \n",
            "\u001b[J8           0.50112     0.581998              0.840014       0.823543                  \n",
            "\u001b[J9           0.484268    0.717998              0.842391       0.808894                  \n"
          ],
          "name": "stdout"
        },
        {
          "output_type": "stream",
          "text": [
            "[I 2018-12-03 17:41:26,324] Finished a trial resulted in value: 0.1821664646267891. Current best value is 0.09990985691547394 with parameters: {'n_units': 40.0, 'n_layers': 2, 'activation': 'tanh', 'optimizer': 'Adam', 'adam_alpha': 0.019632773367357345, 'weight_decay': 6.651464505592555e-09}.\n"
          ],
          "name": "stderr"
        },
        {
          "output_type": "stream",
          "text": [
            "epoch       main/loss   validation/main/loss  main/accuracy  validation/main/accuracy\n",
            "\u001b[J1           2.96878     1.23148               0.334961       0.53771                   \n",
            "\u001b[J2           1.12885     0.931604              0.569633       0.649038                  \n",
            "\u001b[J3           1.03492     1.10584               0.599935       0.590895                  \n",
            "\u001b[J4           0.952104    0.9875                0.638587       0.660757                  \n",
            "\u001b[J5           0.89456     0.897318              0.654297       0.693885                  \n",
            "\u001b[J6           0.852874    0.968146              0.669497       0.654823                  \n",
            "\u001b[J7           0.856164    0.909847              0.68457        0.696665                  \n",
            "\u001b[J8           0.813049    0.900973              0.695992       0.679087                  \n",
            "\u001b[J9           0.782016    0.929426              0.706522       0.708008                  \n"
          ],
          "name": "stdout"
        },
        {
          "output_type": "stream",
          "text": [
            "[I 2018-12-03 17:41:29,428] Finished a trial resulted in value: 0.2729867771267891. Current best value is 0.09990985691547394 with parameters: {'n_units': 40.0, 'n_layers': 2, 'activation': 'tanh', 'optimizer': 'Adam', 'adam_alpha': 0.019632773367357345, 'weight_decay': 6.651464505592555e-09}.\n"
          ],
          "name": "stderr"
        },
        {
          "output_type": "stream",
          "text": [
            "epoch       main/loss   validation/main/loss  main/accuracy  validation/main/accuracy\n",
            "\u001b[J1           1.65081     0.898558              0.45638        0.710862                  \n",
            "\u001b[J2           0.729548    0.677706              0.778872       0.803861                  \n",
            "\u001b[J3           0.549475    0.719452              0.83138        0.809044                  \n",
            "\u001b[J4           0.452454    0.585451              0.861073       0.827224                  \n",
            "\u001b[J5           0.369342    0.550054              0.888346       0.856445                  \n",
            "\u001b[J6           0.326739    0.479045              0.901495       0.888672                  \n",
            "\u001b[J7           0.279541    0.600754              0.916341       0.858173                  \n",
            "\u001b[J8           0.297286    0.528546              0.914402       0.887846                  \n",
            "\u001b[J9           0.265671    0.613258              0.919158       0.845778                  \n"
          ],
          "name": "stdout"
        },
        {
          "output_type": "stream",
          "text": [
            "[I 2018-12-03 17:41:32,240] Finished a trial resulted in value: 0.13792067021131516. Current best value is 0.09990985691547394 with parameters: {'n_units': 40.0, 'n_layers': 2, 'activation': 'tanh', 'optimizer': 'Adam', 'adam_alpha': 0.019632773367357345, 'weight_decay': 6.651464505592555e-09}.\n"
          ],
          "name": "stderr"
        },
        {
          "output_type": "stream",
          "text": [
            "epoch       main/loss   validation/main/loss  main/accuracy  validation/main/accuracy\n",
            "\u001b[J1           1.83193     0.948439              0.370768       0.644907                  \n",
            "\u001b[J2           0.833278    0.754736              0.714334       0.763296                  \n",
            "\u001b[J3           0.593048    0.517472              0.812826       0.841797                  \n",
            "\u001b[J4           0.475674    0.552775              0.857677       0.845252                  \n",
            "\u001b[J5           0.369549    0.535773              0.892904       0.869291                  \n",
            "\u001b[J6           0.321048    0.473488              0.902514       0.886418                  \n",
            "\u001b[J7           0.295657    0.570659              0.909831       0.871319                  \n",
            "\u001b[J8           0.274666    0.46106               0.920516       0.900316                  \n",
            "\u001b[J9           0.247443    0.511888              0.922554       0.888071                  \n"
          ],
          "name": "stdout"
        },
        {
          "output_type": "stream",
          "text": [
            "[I 2018-12-03 17:41:35,255] Finished a trial resulted in value: 0.11215444654226303. Current best value is 0.09990985691547394 with parameters: {'n_units': 40.0, 'n_layers': 2, 'activation': 'tanh', 'optimizer': 'Adam', 'adam_alpha': 0.019632773367357345, 'weight_decay': 6.651464505592555e-09}.\n"
          ],
          "name": "stderr"
        },
        {
          "output_type": "stream",
          "text": [
            "epoch       main/loss   validation/main/loss  main/accuracy  validation/main/accuracy\n",
            "\u001b[J1           1.57554     0.818212              0.503581       0.742413                  \n",
            "\u001b[J2           0.850386    0.908691              0.724864       0.692984                  \n",
            "\u001b[J3           0.821445    0.708236              0.730469       0.765325                  \n",
            "\u001b[J4           0.825253    0.829103              0.737092       0.752404                  \n",
            "\u001b[J5           0.885348    1.01064               0.726562       0.680364                  \n",
            "\u001b[J6           0.948609    0.953825              0.692935       0.717773                  \n",
            "\u001b[J7           0.897699    1.03908               0.730143       0.677359                  \n",
            "\u001b[J8           0.926733    0.944202              0.70856        0.69366                   \n",
            "\u001b[J9           1.1288      1.2424                0.643682       0.638897                  \n"
          ],
          "name": "stdout"
        },
        {
          "output_type": "stream",
          "text": [
            "[I 2018-12-03 17:41:38,692] Finished a trial resulted in value: 0.2958233207464218. Current best value is 0.09990985691547394 with parameters: {'n_units': 40.0, 'n_layers': 2, 'activation': 'tanh', 'optimizer': 'Adam', 'adam_alpha': 0.019632773367357345, 'weight_decay': 6.651464505592555e-09}.\n"
          ],
          "name": "stderr"
        },
        {
          "output_type": "stream",
          "text": [
            "epoch       main/loss   validation/main/loss  main/accuracy  validation/main/accuracy\n",
            "\u001b[J1           1.35466     0.736138              0.552409       0.748272                  \n",
            "\u001b[J2           0.693539    0.71747               0.777174       0.77186                   \n",
            "\u001b[J3           0.630539    0.61085               0.795898       0.80942                   \n",
            "\u001b[J4           0.581551    0.614778              0.816576       0.822566                  \n",
            "\u001b[J5           0.539256    0.581855              0.835286       0.81866                   \n",
            "\u001b[J6           0.548536    0.562438              0.827785       0.824369                  \n",
            "\u001b[J7           0.657219    0.620484              0.792318       0.823242                  \n",
            "\u001b[J8           0.61715     0.756707              0.810802       0.805589                  \n",
            "\u001b[J9           0.680237    0.677317              0.79144        0.785532                  \n"
          ],
          "name": "stdout"
        },
        {
          "output_type": "stream",
          "text": [
            "[I 2018-12-03 17:41:41,953] Finished a trial resulted in value: 0.22979266941547394. Current best value is 0.09990985691547394 with parameters: {'n_units': 40.0, 'n_layers': 2, 'activation': 'tanh', 'optimizer': 'Adam', 'adam_alpha': 0.019632773367357345, 'weight_decay': 6.651464505592555e-09}.\n"
          ],
          "name": "stderr"
        },
        {
          "output_type": "stream",
          "text": [
            "epoch       main/loss   validation/main/loss  main/accuracy  validation/main/accuracy\n",
            "\u001b[J1           1.94214     1.09635               0.374349       0.711463                  \n",
            "\u001b[J2           0.797812    0.607913              0.752038       0.805364                  \n",
            "\u001b[J3           0.461083    0.421953              0.860677       0.876427                  \n",
            "\u001b[J4           0.315008    0.35957               0.904212       0.898588                  \n",
            "\u001b[J5           0.234538    0.309259              0.927409       0.905424                  \n",
            "\u001b[J6           0.212413    0.307659              0.931386       0.913687                  \n",
            "\u001b[J7           0.151371    0.302091              0.952474       0.917368                  \n",
            "\u001b[J8           0.118342    0.338291              0.962976       0.904222                  \n",
            "\u001b[J9           0.0898864   0.316079              0.971128       0.914663                  \n"
          ],
          "name": "stdout"
        },
        {
          "output_type": "stream",
          "text": [
            "[I 2018-12-03 17:41:44,640] Finished a trial resulted in value: 0.08751502633094788. Current best value is 0.08751502633094788 with parameters: {'n_units': 40.0, 'n_layers': 2, 'activation': 'relu', 'optimizer': 'MomentumSGD', 'momentum_sgd_lr': 0.04992225600949821, 'weight_decay': 1.5419584331939714e-07}.\n"
          ],
          "name": "stderr"
        },
        {
          "output_type": "stream",
          "text": [
            "epoch       main/loss   validation/main/loss  main/accuracy  validation/main/accuracy\n",
            "\u001b[J1           2.40753     2.36996               0.10319        0.100586                  \n",
            "\u001b[J2           2.36908     2.33969               0.105299       0.105694                  \n",
            "\u001b[J3           2.34159     2.32009               0.10612        0.105694                  \n",
            "\u001b[J4           2.32446     2.31029               0.106658       0.111553                  \n",
            "\u001b[J5           2.31308     2.30483               0.109701       0.108173                  \n",
            "\u001b[J6           2.30971     2.3021                0.105299       0.11253                   \n",
            "\u001b[J7           2.30579     2.30071               0.106771       0.108173                  \n",
            "\u001b[J8           2.30305     2.30035               0.105978       0.108173                  \n",
            "\u001b[J9           2.30244     2.30009               0.105639       0.108173                  \n"
          ],
          "name": "stdout"
        },
        {
          "output_type": "stream",
          "text": [
            "[I 2018-12-03 17:41:47,615] Finished a trial resulted in value: 0.8918269230052829. Current best value is 0.08751502633094788 with parameters: {'n_units': 40.0, 'n_layers': 2, 'activation': 'relu', 'optimizer': 'MomentumSGD', 'momentum_sgd_lr': 0.04992225600949821, 'weight_decay': 1.5419584331939714e-07}.\n"
          ],
          "name": "stderr"
        },
        {
          "output_type": "stream",
          "text": [
            "epoch       main/loss   validation/main/loss  main/accuracy  validation/main/accuracy\n",
            "\u001b[J1           2.25316     2.14747               0.16276        0.274339                  \n",
            "\u001b[J2           1.95461     1.68719               0.353261       0.534555                  \n",
            "\u001b[J3           1.38547     1.02393               0.636719       0.748723                  \n",
            "\u001b[J4           0.872507    0.67693               0.767323       0.811899                  \n",
            "\u001b[J5           0.642117    0.567495              0.815755       0.83744                   \n",
            "\u001b[J6           0.539397    0.488302              0.846807       0.873047                  \n",
            "\u001b[J7           0.475035    0.475114              0.862305       0.857422                  \n",
            "\u001b[J8           0.419182    0.42816               0.884171       0.88424                   \n",
            "\u001b[J9           0.381112    0.394361              0.893342       0.895433                  \n"
          ],
          "name": "stdout"
        },
        {
          "output_type": "stream",
          "text": [
            "[I 2018-12-03 17:41:50,281] Finished a trial resulted in value: 0.10456730425357819. Current best value is 0.08751502633094788 with parameters: {'n_units': 40.0, 'n_layers': 2, 'activation': 'relu', 'optimizer': 'MomentumSGD', 'momentum_sgd_lr': 0.04992225600949821, 'weight_decay': 1.5419584331939714e-07}.\n"
          ],
          "name": "stderr"
        },
        {
          "output_type": "stream",
          "text": [
            "epoch       main/loss   validation/main/loss  main/accuracy  validation/main/accuracy\n",
            "\u001b[J1           2.33086     2.33116               0.0908203      0.0789513                 \n",
            "\u001b[J2           2.31584     2.31614               0.0968071      0.0879657                 \n",
            "\u001b[J3           2.30196     2.30018               0.107422       0.095027                  \n",
            "\u001b[J4           2.28451     2.28521               0.123641       0.10284                   \n",
            "\u001b[J5           2.2704      2.26988               0.138346       0.114258                  \n",
            "\u001b[J6           2.25515     2.25537               0.147418       0.133263                  \n",
            "\u001b[J7           2.24149     2.24064               0.163086       0.151067                  \n",
            "\u001b[J8           2.22631     2.22691               0.173913       0.170072                  \n",
            "\u001b[J9           2.21398     2.21346               0.186821       0.181791                  \n"
          ],
          "name": "stdout"
        },
        {
          "output_type": "stream",
          "text": [
            "[I 2018-12-03 17:41:52,609] Finished a trial resulted in value: 0.8007061295211315. Current best value is 0.08751502633094788 with parameters: {'n_units': 40.0, 'n_layers': 2, 'activation': 'relu', 'optimizer': 'MomentumSGD', 'momentum_sgd_lr': 0.04992225600949821, 'weight_decay': 1.5419584331939714e-07}.\n"
          ],
          "name": "stderr"
        },
        {
          "output_type": "stream",
          "text": [
            "epoch       main/loss   validation/main/loss  main/accuracy  validation/main/accuracy\n",
            "\u001b[J1           2.33536     2.23576               0.0953776      0.180063                  \n",
            "\u001b[J2           2.16598     2.07972               0.313519       0.467022                  \n",
            "\u001b[J3           2.01287     1.93068               0.526367       0.573468                  \n",
            "\u001b[J4           1.87363     1.79856               0.590353       0.627629                  \n",
            "\u001b[J5           1.74557     1.67181               0.623047       0.652269                  \n",
            "\u001b[J6           1.62471     1.56151               0.64606        0.670823                  \n",
            "\u001b[J7           1.51997     1.45699               0.674154       0.688101                  \n",
            "\u001b[J8           1.42419     1.36739               0.686821       0.706355                  \n",
            "\u001b[J9           1.33621     1.28811               0.709918       0.724609                  \n"
          ],
          "name": "stdout"
        },
        {
          "output_type": "stream",
          "text": [
            "[I 2018-12-03 17:41:55,758] Finished a trial resulted in value: 0.2569110542535782. Current best value is 0.08751502633094788 with parameters: {'n_units': 40.0, 'n_layers': 2, 'activation': 'relu', 'optimizer': 'MomentumSGD', 'momentum_sgd_lr': 0.04992225600949821, 'weight_decay': 1.5419584331939714e-07}.\n"
          ],
          "name": "stderr"
        },
        {
          "output_type": "stream",
          "text": [
            "epoch       main/loss   validation/main/loss  main/accuracy  validation/main/accuracy\n",
            "\u001b[J1           2.0049      1.35092               0.256185       0.521109                  \n",
            "\u001b[J2           1.02795     0.839578              0.631114       0.724609                  \n",
            "\u001b[J3           0.580185    0.472477              0.807617       0.862755                  \n",
            "\u001b[J4           0.399321    0.462744              0.877378       0.863582                  \n",
            "\u001b[J5           0.302821    0.40893               0.908203       0.880784                  \n",
            "\u001b[J6           0.225815    0.357283              0.929008       0.894456                  \n",
            "\u001b[J7           0.210338    0.396245              0.932943       0.897386                  \n",
            "\u001b[J8           0.143045    0.38021               0.961957       0.89716                   \n",
            "\u001b[J9           0.112576    0.381983              0.967391       0.890325                  \n"
          ],
          "name": "stdout"
        },
        {
          "output_type": "stream",
          "text": [
            "[I 2018-12-03 17:41:58,726] Finished a trial resulted in value: 0.09329927712678909. Current best value is 0.08751502633094788 with parameters: {'n_units': 40.0, 'n_layers': 2, 'activation': 'relu', 'optimizer': 'MomentumSGD', 'momentum_sgd_lr': 0.04992225600949821, 'weight_decay': 1.5419584331939714e-07}.\n"
          ],
          "name": "stderr"
        },
        {
          "output_type": "stream",
          "text": [
            "epoch       main/loss   validation/main/loss  main/accuracy  validation/main/accuracy\n",
            "\u001b[J1           2.06413     1.32065               0.285482       0.520959                  \n",
            "\u001b[J2           1.2919      0.94033               0.57269        0.69396                   \n",
            "\u001b[J3           0.756808    0.589099              0.738607       0.835261                  \n",
            "\u001b[J4           0.543683    0.563679              0.819973       0.814528                  \n",
            "\u001b[J5           0.40809     0.491224              0.878906       0.867188                  \n",
            "\u001b[J6           0.35274     0.392453              0.896739       0.897912                  \n",
            "\u001b[J7           0.26455     0.358772              0.924154       0.892803                  \n",
            "\u001b[J8           0.18926     0.348194              0.942255       0.907377                  \n",
            "\u001b[J9           0.15419     0.365674              0.954484       0.909856                  \n"
          ],
          "name": "stdout"
        },
        {
          "output_type": "stream",
          "text": [
            "[I 2018-12-03 17:42:02,313] Finished a trial resulted in value: 0.08165565133094788. Current best value is 0.08165565133094788 with parameters: {'n_units': 50.0, 'n_layers': 4, 'activation': 'relu', 'optimizer': 'MomentumSGD', 'momentum_sgd_lr': 0.0799569529405464, 'weight_decay': 6.795382549675713e-07}.\n"
          ],
          "name": "stderr"
        },
        {
          "output_type": "stream",
          "text": [
            "epoch       main/loss   validation/main/loss  main/accuracy  validation/main/accuracy\n",
            "\u001b[J1           2.03276     2.12997               0.292318       0.392879                  \n",
            "\u001b[J2           1.19823     0.650888              0.628057       0.793344                  \n",
            "\u001b[J3           0.486949    0.41801               0.850586       0.872521                  \n",
            "\u001b[J4           0.329257    0.343592              0.908628       0.901968                  \n",
            "\u001b[J5           0.230996    0.359095              0.930664       0.895207                  \n",
            "\u001b[J6           0.225078    0.326398              0.929688       0.907151                  \n",
            "\u001b[J7           0.139974    0.340006              0.960612       0.905424                  \n",
            "\u001b[J8           0.142404    0.348173              0.955163       0.904672                  \n",
            "\u001b[J9           0.0896572   0.323062              0.971128       0.913687                  \n"
          ],
          "name": "stdout"
        },
        {
          "output_type": "stream",
          "text": [
            "[I 2018-12-03 17:42:06,439] Finished a trial resulted in value: 0.07850059866905212. Current best value is 0.07850059866905212 with parameters: {'n_units': 100.0, 'n_layers': 4, 'activation': 'relu', 'optimizer': 'MomentumSGD', 'momentum_sgd_lr': 0.08055119940809326, 'weight_decay': 0.0008996242469262549}.\n"
          ],
          "name": "stderr"
        },
        {
          "output_type": "stream",
          "text": [
            "epoch       main/loss   validation/main/loss  main/accuracy  validation/main/accuracy\n",
            "\u001b[J1           1.96851     1.27427               0.289388       0.592698                  \n",
            "\u001b[J2           0.815876    0.517823              0.727242       0.836989                  \n",
            "\u001b[J3           0.391893    0.381319              0.876953       0.887169                  \n",
            "\u001b[J4           0.332921    0.337542              0.899457       0.905649                  \n",
            "\u001b[J5           0.196544    0.323839              0.939128       0.91564                   \n",
            "\u001b[J6           0.130793    0.294647              0.957201       0.908053                  \n",
            "\u001b[J7           0.131299    0.305038              0.958984       0.911809                  \n",
            "\u001b[J8           0.1395      0.355729              0.957541       0.910832                  \n",
            "\u001b[J9           0.185042    0.33929               0.940217       0.913687                  \n"
          ],
          "name": "stdout"
        },
        {
          "output_type": "stream",
          "text": [
            "[I 2018-12-03 17:42:10,548] Finished a trial resulted in value: 0.07121394574642181. Current best value is 0.07121394574642181 with parameters: {'n_units': 100.0, 'n_layers': 4, 'activation': 'relu', 'optimizer': 'MomentumSGD', 'momentum_sgd_lr': 0.09253539738249918, 'weight_decay': 0.0008120924365931772}.\n"
          ],
          "name": "stderr"
        },
        {
          "output_type": "stream",
          "text": [
            "epoch       main/loss   validation/main/loss  main/accuracy  validation/main/accuracy\n",
            "\u001b[J1           2.05571     1.18987               0.306641       0.633564                  \n",
            "\u001b[J2           0.97721     0.609967              0.668818       0.823768                  \n",
            "\u001b[J3           0.503473    0.386828              0.848958       0.887395                  \n",
            "\u001b[J4           0.305915    0.433477              0.90625        0.87838                   \n",
            "\u001b[J5           0.23133     0.3687                0.92806        0.893179                  \n",
            "\u001b[J6           0.174444    0.344655              0.944973       0.900541                  \n",
            "\u001b[J7           0.143453    0.338158              0.954753       0.892052                  \n",
            "\u001b[J8           0.117605    0.331644              0.962296       0.905424                  \n",
            "\u001b[J9           0.0944022   0.317321              0.967052       0.913912                  \n"
          ],
          "name": "stdout"
        },
        {
          "output_type": "stream",
          "text": [
            "[I 2018-12-03 17:42:14,618] Finished a trial resulted in value: 0.06926082074642181. Current best value is 0.06926082074642181 with parameters: {'n_units': 100.0, 'n_layers': 4, 'activation': 'relu', 'optimizer': 'MomentumSGD', 'momentum_sgd_lr': 0.06107266081362402, 'weight_decay': 0.0006621497990376813}.\n"
          ],
          "name": "stderr"
        },
        {
          "output_type": "stream",
          "text": [
            "epoch       main/loss   validation/main/loss  main/accuracy  validation/main/accuracy\n",
            "\u001b[J1           1.97357     1.39172               0.335612       0.54064                   \n",
            "\u001b[J2           1.19274     0.662085              0.628397       0.793119                  \n",
            "\u001b[J3           0.522108    0.432827              0.847005       0.872521                  \n",
            "\u001b[J4           0.32851     0.37771               0.89572        0.887921                  \n",
            "\u001b[J5           0.260765    0.327148              0.914714       0.907828                  \n",
            "\u001b[J6           0.192151    0.339658              0.943614       0.9064                    \n",
            "\u001b[J7           0.206981    0.389013              0.939779       0.886118                  \n",
            "\u001b[J8           0.133591    0.311177              0.958899       0.910006                  \n",
            "\u001b[J9           0.0871214   0.312007              0.974185       0.924955                  \n"
          ],
          "name": "stdout"
        },
        {
          "output_type": "stream",
          "text": [
            "[I 2018-12-03 17:42:18,774] Finished a trial resulted in value: 0.07046274095773697. Current best value is 0.06926082074642181 with parameters: {'n_units': 100.0, 'n_layers': 4, 'activation': 'relu', 'optimizer': 'MomentumSGD', 'momentum_sgd_lr': 0.06107266081362402, 'weight_decay': 0.0006621497990376813}.\n"
          ],
          "name": "stderr"
        },
        {
          "output_type": "stream",
          "text": [
            "epoch       main/loss   validation/main/loss  main/accuracy  validation/main/accuracy\n",
            "\u001b[J1           2.14234     11.5514               0.361003       0.170297                  \n",
            "\u001b[J2           2.72717     1.64558               0.204823       0.410832                  \n",
            "\u001b[J3           1.31566     0.894784              0.500977       0.638447                  \n",
            "\u001b[J4           0.78377     0.6627                0.737092       0.788687                  \n",
            "\u001b[J5           0.540069    0.468026              0.838216       0.8747                    \n",
            "\u001b[J6           0.429218    0.395236              0.875          0.896635                  \n",
            "\u001b[J7           0.376528    0.437935              0.885417       0.883489                  \n",
            "\u001b[J8           0.388732    0.419241              0.889266       0.880108                  \n",
            "\u001b[J9           0.340833    0.402808              0.910666       0.894005                  \n"
          ],
          "name": "stdout"
        },
        {
          "output_type": "stream",
          "text": [
            "[I 2018-12-03 17:42:22,737] Finished a trial resulted in value: 0.09945913404226303. Current best value is 0.06926082074642181 with parameters: {'n_units': 100.0, 'n_layers': 4, 'activation': 'relu', 'optimizer': 'MomentumSGD', 'momentum_sgd_lr': 0.06107266081362402, 'weight_decay': 0.0006621497990376813}.\n"
          ],
          "name": "stderr"
        },
        {
          "output_type": "stream",
          "text": [
            "epoch       main/loss   validation/main/loss  main/accuracy  validation/main/accuracy\n",
            "\u001b[J1           2.06926     6.05537               0.339193       0.19396                   \n",
            "\u001b[J2           2.11115     1.3425                0.297554       0.576322                  \n",
            "\u001b[J3           0.999778    0.693503              0.660482       0.783579                  \n",
            "\u001b[J4           0.544018    0.463187              0.831522       0.869666                  \n",
            "\u001b[J5           0.387556    0.41366               0.880859       0.88747                   \n",
            "\u001b[J6           0.298782    0.43573               0.90591        0.866436                  \n",
            "\u001b[J7           0.236839    0.304428              0.924805       0.915415                  \n",
            "\u001b[J8           0.18714     0.345241              0.944973       0.906926                  \n",
            "\u001b[J9           0.213494    0.381563              0.931386       0.896334                  \n"
          ],
          "name": "stdout"
        },
        {
          "output_type": "stream",
          "text": [
            "[I 2018-12-03 17:42:26,836] Finished a trial resulted in value: 0.08698917925357819. Current best value is 0.06926082074642181 with parameters: {'n_units': 100.0, 'n_layers': 4, 'activation': 'relu', 'optimizer': 'MomentumSGD', 'momentum_sgd_lr': 0.06107266081362402, 'weight_decay': 0.0006621497990376813}.\n"
          ],
          "name": "stderr"
        },
        {
          "output_type": "stream",
          "text": [
            "epoch       main/loss   validation/main/loss  main/accuracy  validation/main/accuracy\n",
            "\u001b[J1           2.33122     2.34496               0.101888       0.0865385                 \n",
            "\u001b[J2           2.32335     2.30962               0.101902       0.100586                  \n",
            "\u001b[J3           2.32766     2.31885               0.107747       0.0935998                 \n",
            "\u001b[J4           2.32524     2.31656               0.101223       0.0935998                 \n",
            "\u001b[J5           2.31846     2.30945               0.0976562      0.100586                  \n",
            "\u001b[J6           2.31627     2.33269               0.094769       0.0935998                 \n",
            "\u001b[J7           2.32839     2.32474               0.0996094      0.100586                  \n",
            "\u001b[J8           2.31158     2.31597               0.115489       0.113957                  \n",
            "\u001b[J9           2.31177     2.30315               0.0978261      0.129432                  \n"
          ],
          "name": "stdout"
        },
        {
          "output_type": "stream",
          "text": [
            "[I 2018-12-03 17:42:31,448] Finished a trial resulted in value: 0.8918269230052829. Current best value is 0.06926082074642181 with parameters: {'n_units': 100.0, 'n_layers': 4, 'activation': 'relu', 'optimizer': 'MomentumSGD', 'momentum_sgd_lr': 0.06107266081362402, 'weight_decay': 0.0006621497990376813}.\n"
          ],
          "name": "stderr"
        },
        {
          "output_type": "stream",
          "text": [
            "epoch       main/loss   validation/main/loss  main/accuracy  validation/main/accuracy\n",
            "\u001b[J1           2.01009     1.75864               0.346354       0.36546                   \n",
            "\u001b[J2           1.2178      0.736042              0.568274       0.744817                  \n",
            "\u001b[J3           0.594555    0.532725              0.798828       0.840144                  \n",
            "\u001b[J4           0.424612    0.464266              0.866508       0.878155                  \n",
            "\u001b[J5           0.277515    0.319764              0.913411       0.911734                  \n",
            "\u001b[J6           0.19496     0.423925              0.938519       0.88101                   \n",
            "\u001b[J7           0.23746     0.38193               0.928711       0.893254                  \n",
            "\u001b[J8           0.231679    0.341901              0.932405       0.914213                  \n",
            "\u001b[J9           0.138385    0.30428               0.95822        0.913912                  \n"
          ],
          "name": "stdout"
        },
        {
          "output_type": "stream",
          "text": [
            "[I 2018-12-03 17:42:35,656] Finished a trial resulted in value: 0.08826622366905212. Current best value is 0.06926082074642181 with parameters: {'n_units': 100.0, 'n_layers': 4, 'activation': 'relu', 'optimizer': 'MomentumSGD', 'momentum_sgd_lr': 0.06107266081362402, 'weight_decay': 0.0006621497990376813}.\n"
          ],
          "name": "stderr"
        },
        {
          "output_type": "stream",
          "text": [
            "epoch       main/loss   validation/main/loss  main/accuracy  validation/main/accuracy\n",
            "\u001b[J1           2.12433     1.32268               0.270833       0.520959                  \n",
            "\u001b[J2           0.986419    0.570004              0.663723       0.846755                  \n",
            "\u001b[J3           0.522466    0.442711              0.831706       0.861854                  \n",
            "\u001b[J4           0.337136    0.361979              0.896399       0.898062                  \n",
            "\u001b[J5           0.238567    0.33027               0.929036       0.902269                  \n",
            "\u001b[J6           0.206814    0.33042               0.932065       0.906926                  \n",
            "\u001b[J7           0.173349    0.428052              0.94043        0.887996                  \n",
            "\u001b[J8           0.133666    0.290716              0.95788        0.917142                  \n",
            "\u001b[J9           0.0835347   0.312371              0.96875        0.927584                  \n"
          ],
          "name": "stdout"
        },
        {
          "output_type": "stream",
          "text": [
            "[I 2018-12-03 17:42:39,735] Finished a trial resulted in value: 0.08045372366905212. Current best value is 0.06926082074642181 with parameters: {'n_units': 100.0, 'n_layers': 4, 'activation': 'relu', 'optimizer': 'MomentumSGD', 'momentum_sgd_lr': 0.06107266081362402, 'weight_decay': 0.0006621497990376813}.\n"
          ],
          "name": "stderr"
        },
        {
          "output_type": "stream",
          "text": [
            "epoch       main/loss   validation/main/loss  main/accuracy  validation/main/accuracy\n",
            "\u001b[J1           2.35707     2.33735               0.0970052      0.108173                  \n",
            "\u001b[J2           2.32468     2.31098               0.107677       0.100135                  \n",
            "\u001b[J3           2.32001     2.32172               0.0970052      0.0836088                 \n",
            "\u001b[J4           2.3209      2.30804               0.094769       0.0887169                 \n",
            "\u001b[J5           2.318       2.32068               0.101237       0.100586                  \n",
            "\u001b[J6           2.32682     2.30746               0.0906929      0.129432                  \n",
            "\u001b[J7           2.31394     2.31537               0.102214       0.100586                  \n",
            "\u001b[J8           2.3168      2.33438               0.0995245      0.100586                  \n",
            "\u001b[J9           2.31718     2.30879               0.100543       0.108173                  \n"
          ],
          "name": "stdout"
        },
        {
          "output_type": "stream",
          "text": [
            "[I 2018-12-03 17:42:44,534] Finished a trial resulted in value: 0.8918269230052829. Current best value is 0.06926082074642181 with parameters: {'n_units': 100.0, 'n_layers': 4, 'activation': 'relu', 'optimizer': 'MomentumSGD', 'momentum_sgd_lr': 0.06107266081362402, 'weight_decay': 0.0006621497990376813}.\n"
          ],
          "name": "stderr"
        },
        {
          "output_type": "stream",
          "text": [
            "epoch       main/loss   validation/main/loss  main/accuracy  validation/main/accuracy\n",
            "\u001b[J1           2.03971     1.31261               0.328776       0.519982                  \n",
            "\u001b[J2           0.997164    0.502573              0.657609       0.844276                  \n",
            "\u001b[J3           0.467809    0.424304              0.861328       0.869141                  \n",
            "\u001b[J4           0.33743     0.381335              0.898777       0.882061                  \n",
            "\u001b[J5           0.312965    0.343322              0.90625        0.894982                  \n",
            "\u001b[J6           0.193577    0.269425              0.940217       0.917368                  \n",
            "\u001b[J7           0.142253    0.320306              0.95638        0.906626                  \n",
            "\u001b[J8           0.10534     0.292097              0.966712       0.921725                  \n",
            "\u001b[J9           0.0748985   0.304895              0.980978       0.919321                  \n"
          ],
          "name": "stdout"
        },
        {
          "output_type": "stream",
          "text": [
            "[I 2018-12-03 17:42:48,652] Finished a trial resulted in value: 0.06798377633094788. Current best value is 0.06798377633094788 with parameters: {'n_units': 100.0, 'n_layers': 4, 'activation': 'relu', 'optimizer': 'MomentumSGD', 'momentum_sgd_lr': 0.06468383425047516, 'weight_decay': 0.0007499328180966753}.\n"
          ],
          "name": "stderr"
        },
        {
          "output_type": "stream",
          "text": [
            "epoch       main/loss   validation/main/loss  main/accuracy  validation/main/accuracy\n",
            "\u001b[J1           2.05483     1.65225               0.31543        0.567909                  \n",
            "\u001b[J2           1.06687     0.627671              0.631454       0.795748                  \n",
            "\u001b[J3           0.505834    0.595708              0.838867       0.834135                  \n",
            "\u001b[J4           0.342348    0.371281              0.897418       0.900316                  \n",
            "\u001b[J5           0.249895    0.311165              0.917643       0.908353                  \n",
            "\u001b[J6           0.20311     0.380655              0.934103       0.902043                  \n",
            "\u001b[J7           0.156281    0.365159              0.953125       0.9064                    \n",
            "\u001b[J8           0.13018     0.316469              0.960258       0.917368                  \n",
            "\u001b[J9           0.0971669   0.385234              0.970448       0.909555                  \n"
          ],
          "name": "stdout"
        },
        {
          "output_type": "stream",
          "text": [
            "[I 2018-12-03 17:42:52,799] Finished a trial resulted in value: 0.09532752633094788. Current best value is 0.06798377633094788 with parameters: {'n_units': 100.0, 'n_layers': 4, 'activation': 'relu', 'optimizer': 'MomentumSGD', 'momentum_sgd_lr': 0.06468383425047516, 'weight_decay': 0.0007499328180966753}.\n"
          ],
          "name": "stderr"
        },
        {
          "output_type": "stream",
          "text": [
            "epoch       main/loss   validation/main/loss  main/accuracy  validation/main/accuracy\n",
            "\u001b[J1           2.33639     2.33504               0.100586       0.0865385                 \n",
            "\u001b[J2           2.31895     2.33222               0.0920516      0.0865385                 \n",
            "\u001b[J3           2.31115     2.31589               0.102539       0.129432                  \n",
            "\u001b[J4           2.31536     2.3211                0.100543       0.0836088                 \n",
            "\u001b[J5           2.31462     2.31607               0.110352       0.100586                  \n",
            "\u001b[J6           2.31828     2.3445                0.110734       0.129432                  \n",
            "\u001b[J7           2.31601     2.32017               0.105469       0.129432                  \n",
            "\u001b[J8           2.3187      2.34441               0.0981658      0.0935998                 \n",
            "\u001b[J9           2.31685     2.33347               0.112772       0.0887169                 \n"
          ],
          "name": "stdout"
        },
        {
          "output_type": "stream",
          "text": [
            "[I 2018-12-03 17:42:57,521] Finished a trial resulted in value: 0.8705679085105658. Current best value is 0.06798377633094788 with parameters: {'n_units': 100.0, 'n_layers': 4, 'activation': 'relu', 'optimizer': 'MomentumSGD', 'momentum_sgd_lr': 0.06468383425047516, 'weight_decay': 0.0007499328180966753}.\n"
          ],
          "name": "stderr"
        },
        {
          "output_type": "stream",
          "text": [
            "epoch       main/loss   validation/main/loss  main/accuracy  validation/main/accuracy\n",
            "\u001b[J1           2.0383      1.52312               0.326823       0.510216                  \n",
            "\u001b[J2           1.02827     0.55903               0.686821       0.830604                  \n",
            "\u001b[J3           0.486788    0.424172              0.844076       0.869366                  \n",
            "\u001b[J4           0.354466    0.414203              0.891304       0.875676                  \n",
            "\u001b[J5           0.254888    0.290228              0.924479       0.914889                  \n",
            "\u001b[J6           0.162463    0.325955              0.94803        0.908353                  \n",
            "\u001b[J7           0.144497    0.402031              0.954427       0.89348                   \n",
            "\u001b[J8           0.126489    0.318973              0.95856        0.914663                  \n",
            "\u001b[J9           0.0841392   0.292087              0.973505       0.914138                  \n"
          ],
          "name": "stdout"
        },
        {
          "output_type": "stream",
          "text": [
            "[I 2018-12-03 17:43:01,637] Finished a trial resulted in value: 0.07527042925357819. Current best value is 0.06798377633094788 with parameters: {'n_units': 100.0, 'n_layers': 4, 'activation': 'relu', 'optimizer': 'MomentumSGD', 'momentum_sgd_lr': 0.06468383425047516, 'weight_decay': 0.0007499328180966753}.\n"
          ],
          "name": "stderr"
        },
        {
          "output_type": "stream",
          "text": [
            "epoch       main/loss   validation/main/loss  main/accuracy  validation/main/accuracy\n",
            "\u001b[J1           2.17113     1.54286               0.271484       0.554612                  \n",
            "\u001b[J2           1.08014     0.695313              0.651155       0.78095                   \n",
            "\u001b[J3           0.521629    0.426078              0.836914       0.868389                  \n",
            "\u001b[J4           0.289242    0.339441              0.910326       0.898362                  \n",
            "\u001b[J5           0.222359    0.297253              0.934245       0.911734                  \n",
            "\u001b[J6           0.155982    0.382082              0.951427       0.889348                  \n",
            "\u001b[J7           0.184381    0.267344              0.939453       0.922251                  \n",
            "\u001b[J8           0.143235    0.379636              0.954823       0.899339                  \n",
            "\u001b[J9           0.107063    0.336773              0.967391       0.915865                  \n"
          ],
          "name": "stdout"
        },
        {
          "output_type": "stream",
          "text": [
            "[I 2018-12-03 17:43:05,719] Finished a trial resulted in value: 0.09164663404226303. Current best value is 0.06798377633094788 with parameters: {'n_units': 100.0, 'n_layers': 4, 'activation': 'relu', 'optimizer': 'MomentumSGD', 'momentum_sgd_lr': 0.06468383425047516, 'weight_decay': 0.0007499328180966753}.\n"
          ],
          "name": "stderr"
        },
        {
          "output_type": "stream",
          "text": [
            "epoch       main/loss   validation/main/loss  main/accuracy  validation/main/accuracy\n",
            "\u001b[J1           2.32363     2.32016               0.103841       0.108173                  \n",
            "\u001b[J2           2.30649     2.33899               0.111073       0.0836088                 \n",
            "\u001b[J3           2.31659     2.31456               0.0953776      0.129432                  \n",
            "\u001b[J4           2.31559     2.3175                0.0974864      0.100586                  \n",
            "\u001b[J5           2.31855     2.30247               0.0895182      0.100586                  \n",
            "\u001b[J6           2.31461     2.29879               0.105978       0.113957                  \n",
            "\u001b[J7           2.31691     2.30297               0.103841       0.129432                  \n",
            "\u001b[J8           2.31279     2.29847               0.105299       0.108173                  \n",
            "\u001b[J9           2.30751     2.30674               0.100883       0.100586                  \n"
          ],
          "name": "stdout"
        },
        {
          "output_type": "stream",
          "text": [
            "[I 2018-12-03 17:43:10,423] Finished a trial resulted in value: 0.8918269230052829. Current best value is 0.06798377633094788 with parameters: {'n_units': 100.0, 'n_layers': 4, 'activation': 'relu', 'optimizer': 'MomentumSGD', 'momentum_sgd_lr': 0.06468383425047516, 'weight_decay': 0.0007499328180966753}.\n"
          ],
          "name": "stderr"
        },
        {
          "output_type": "stream",
          "text": [
            "epoch       main/loss   validation/main/loss  main/accuracy  validation/main/accuracy\n",
            "\u001b[J1           2.29535     2.28234               0.127604       0.152569                  \n",
            "\u001b[J2           2.26954     2.25095               0.194633       0.207933                  \n",
            "\u001b[J3           2.22425     2.18769               0.216797       0.228891                  \n",
            "\u001b[J4           2.13675     2.07782               0.242527       0.301232                  \n",
            "\u001b[J5           1.99703     1.90114               0.34375        0.445463                  \n",
            "\u001b[J6           1.789       1.61607               0.505774       0.575871                  \n",
            "\u001b[J7           1.43826     1.16795               0.597331       0.698543                  \n",
            "\u001b[J8           1.04746     0.84764               0.70822        0.775992                  \n",
            "\u001b[J9           0.808436    0.68434               0.755095       0.813326                  \n"
          ],
          "name": "stdout"
        },
        {
          "output_type": "stream",
          "text": [
            "[I 2018-12-03 17:43:14,570] Finished a trial resulted in value: 0.17104867845773697. Current best value is 0.06798377633094788 with parameters: {'n_units': 100.0, 'n_layers': 4, 'activation': 'relu', 'optimizer': 'MomentumSGD', 'momentum_sgd_lr': 0.06468383425047516, 'weight_decay': 0.0007499328180966753}.\n"
          ],
          "name": "stderr"
        },
        {
          "output_type": "stream",
          "text": [
            "epoch       main/loss   validation/main/loss  main/accuracy  validation/main/accuracy\n",
            "\u001b[J1           2.22021     1.97195               0.154622       0.43442                   \n",
            "\u001b[J2           1.34755     0.722174              0.598505       0.770508                  \n",
            "\u001b[J3           0.606131    0.478225              0.806966       0.858023                  \n",
            "\u001b[J4           0.375901    0.350147              0.881454       0.892803                  \n",
            "\u001b[J5           0.283064    0.349148              0.916992       0.892278                  \n",
            "\u001b[J6           0.234119    0.345623              0.929348       0.895959                  \n",
            "\u001b[J7           0.199332    0.385519              0.937174       0.879883                  \n",
            "\u001b[J8           0.160998    0.286547              0.946671       0.919772                  \n",
            "\u001b[J9           0.111383    0.246038              0.964674       0.927659                  \n"
          ],
          "name": "stdout"
        },
        {
          "output_type": "stream",
          "text": [
            "[I 2018-12-03 17:43:18,773] Finished a trial resulted in value: 0.06948617845773697. Current best value is 0.06798377633094788 with parameters: {'n_units': 100.0, 'n_layers': 4, 'activation': 'relu', 'optimizer': 'MomentumSGD', 'momentum_sgd_lr': 0.06468383425047516, 'weight_decay': 0.0007499328180966753}.\n"
          ],
          "name": "stderr"
        },
        {
          "output_type": "stream",
          "text": [
            "epoch       main/loss   validation/main/loss  main/accuracy  validation/main/accuracy\n",
            "\u001b[J1           2.30079     2.29827               0.149089       0.161358                  \n",
            "\u001b[J2           2.30048     2.29805               0.153193       0.161358                  \n",
            "\u001b[J3           2.30031     2.29782               0.151693       0.163311                  \n",
            "\u001b[J4           2.30022     2.29759               0.153533       0.165264                  \n",
            "\u001b[J5           2.29965     2.29735               0.154297       0.166241                  \n",
            "\u001b[J6           2.29978     2.29712               0.153533       0.166241                  \n",
            "\u001b[J7           2.29922     2.29688               0.154948       0.166241                  \n",
            "\u001b[J8           2.29943     2.29665               0.155231       0.169171                  \n",
            "\u001b[J9           2.29904     2.29641               0.154891       0.169171                  \n"
          ],
          "name": "stdout"
        },
        {
          "output_type": "stream",
          "text": [
            "[I 2018-12-03 17:43:22,934] Finished a trial resulted in value: 0.8308293260633945. Current best value is 0.06798377633094788 with parameters: {'n_units': 100.0, 'n_layers': 4, 'activation': 'relu', 'optimizer': 'MomentumSGD', 'momentum_sgd_lr': 0.06468383425047516, 'weight_decay': 0.0007499328180966753}.\n"
          ],
          "name": "stderr"
        },
        {
          "output_type": "stream",
          "text": [
            "epoch       main/loss   validation/main/loss  main/accuracy  validation/main/accuracy\n",
            "\u001b[J1           2.39399     2.3615                0.106771       0.0952524                 \n",
            "\u001b[J2           2.34456     2.32252               0.108356       0.108173                  \n",
            "\u001b[J3           2.32289     2.34479               0.112305       0.0887169                 \n",
            "\u001b[J4           2.32324     2.32374               0.102921       0.0935998                 \n",
            "\u001b[J5           2.31452     2.29942               0.0992839      0.129432                  \n",
            "\u001b[J6           2.31383     2.31209               0.101223       0.100135                  \n",
            "\u001b[J7           2.31293     2.31187               0.0996094      0.108173                  \n",
            "\u001b[J8           2.31205     2.3048                0.105978       0.100586                  \n",
            "\u001b[J9           2.31418     2.30754               0.0930707      0.129432                  \n"
          ],
          "name": "stdout"
        },
        {
          "output_type": "stream",
          "text": [
            "[I 2018-12-03 17:43:27,683] Finished a trial resulted in value: 0.8994140625. Current best value is 0.06798377633094788 with parameters: {'n_units': 100.0, 'n_layers': 4, 'activation': 'relu', 'optimizer': 'MomentumSGD', 'momentum_sgd_lr': 0.06468383425047516, 'weight_decay': 0.0007499328180966753}.\n"
          ],
          "name": "stderr"
        },
        {
          "output_type": "stream",
          "text": [
            "epoch       main/loss   validation/main/loss  main/accuracy  validation/main/accuracy\n",
            "\u001b[J1           2.29495     2.27946               0.109049       0.133113                  \n",
            "\u001b[J2           2.26003     2.23636               0.193954       0.222731                  \n",
            "\u001b[J3           2.19962     2.14775               0.289388       0.367788                  \n",
            "\u001b[J4           2.06752     1.96661               0.406929       0.476412                  \n",
            "\u001b[J5           1.8171      1.61885               0.561849       0.655574                  \n",
            "\u001b[J6           1.42204     1.16023               0.651495       0.728516                  \n",
            "\u001b[J7           1.02018     0.827295              0.712565       0.756761                  \n",
            "\u001b[J8           0.779694    0.690274              0.752378       0.795823                  \n",
            "\u001b[J9           0.654339    0.581769              0.794158       0.824745                  \n"
          ],
          "name": "stdout"
        },
        {
          "output_type": "stream",
          "text": [
            "[I 2018-12-03 17:43:31,742] Finished a trial resulted in value: 0.15354567021131516. Current best value is 0.06798377633094788 with parameters: {'n_units': 100.0, 'n_layers': 4, 'activation': 'relu', 'optimizer': 'MomentumSGD', 'momentum_sgd_lr': 0.06468383425047516, 'weight_decay': 0.0007499328180966753}.\n"
          ],
          "name": "stderr"
        },
        {
          "output_type": "stream",
          "text": [
            "epoch       main/loss   validation/main/loss  main/accuracy  validation/main/accuracy\n",
            "\u001b[J1           2.01979     1.53964               0.359049       0.679237                  \n",
            "\u001b[J2           1.23115     0.911453              0.710938       0.795748                  \n",
            "\u001b[J3           0.783547    0.626733              0.830404       0.862755                  \n",
            "\u001b[J4           0.570834    0.513701              0.869905       0.871544                  \n",
            "\u001b[J5           0.463541    0.4463                0.887695       0.883489                  \n",
            "\u001b[J6           0.406201    0.418191              0.899117       0.889348                  \n",
            "\u001b[J7           0.356579    0.387162              0.908854       0.89686                   \n",
            "\u001b[J8           0.321257    0.373845              0.923234       0.892954                  \n",
            "\u001b[J9           0.295177    0.365263              0.928329       0.894907                  \n"
          ],
          "name": "stdout"
        },
        {
          "output_type": "stream",
          "text": [
            "[I 2018-12-03 17:43:36,566] Finished a trial resulted in value: 0.09457632154226303. Current best value is 0.06798377633094788 with parameters: {'n_units': 100.0, 'n_layers': 4, 'activation': 'relu', 'optimizer': 'MomentumSGD', 'momentum_sgd_lr': 0.06468383425047516, 'weight_decay': 0.0007499328180966753}.\n"
          ],
          "name": "stderr"
        },
        {
          "output_type": "stream",
          "text": [
            "epoch       main/loss   validation/main/loss  main/accuracy  validation/main/accuracy\n",
            "\u001b[J1           2.27374     2.19623               0.160482       0.346154                  \n",
            "\u001b[J2           1.79687     1.03953               0.474864       0.670147                  \n",
            "\u001b[J3           0.908219    0.678669              0.692057       0.776818                  \n",
            "\u001b[J4           0.487652    0.443334              0.844769       0.878155                  \n",
            "\u001b[J5           0.369518    0.436166              0.891276       0.871094                  \n",
            "\u001b[J6           0.315454    0.386493              0.901834       0.888597                  \n",
            "\u001b[J7           0.269473    0.355106              0.91276        0.890325                  \n",
            "\u001b[J8           0.198635    0.344035              0.942255       0.896935                  \n",
            "\u001b[J9           0.156579    0.348627              0.953465       0.90933                   \n"
          ],
          "name": "stdout"
        },
        {
          "output_type": "stream",
          "text": [
            "[I 2018-12-03 17:43:40,692] Finished a trial resulted in value: 0.08653846383094788. Current best value is 0.06798377633094788 with parameters: {'n_units': 100.0, 'n_layers': 4, 'activation': 'relu', 'optimizer': 'MomentumSGD', 'momentum_sgd_lr': 0.06468383425047516, 'weight_decay': 0.0007499328180966753}.\n"
          ],
          "name": "stderr"
        },
        {
          "output_type": "stream",
          "text": [
            "epoch       main/loss   validation/main/loss  main/accuracy  validation/main/accuracy\n",
            "\u001b[J1           2.30432     2.30083               0.125326       0.135216                  \n",
            "\u001b[J2           2.29772     2.29396               0.153872       0.181115                  \n",
            "\u001b[J3           2.29051     2.28675               0.19694        0.211538                  \n",
            "\u001b[J4           2.28267     2.27897               0.231658       0.24707                   \n",
            "\u001b[J5           2.27432     2.26847               0.275716       0.291692                  \n",
            "\u001b[J6           2.26263     2.25557               0.319293       0.332407                  \n",
            "\u001b[J7           2.24849     2.23826               0.34668        0.369892                  \n",
            "\u001b[J8           2.22858     2.21601               0.379416       0.405198                  \n",
            "\u001b[J9           2.20328     2.18539               0.411345       0.421049                  \n"
          ],
          "name": "stdout"
        },
        {
          "output_type": "stream",
          "text": [
            "[I 2018-12-03 17:43:44,866] Finished a trial resulted in value: 0.5455979555845261. Current best value is 0.06798377633094788 with parameters: {'n_units': 100.0, 'n_layers': 4, 'activation': 'relu', 'optimizer': 'MomentumSGD', 'momentum_sgd_lr': 0.06468383425047516, 'weight_decay': 0.0007499328180966753}.\n"
          ],
          "name": "stderr"
        },
        {
          "output_type": "stream",
          "text": [
            "epoch       main/loss   validation/main/loss  main/accuracy  validation/main/accuracy\n",
            "\u001b[J1           1.35549     0.591914              0.583984       0.822566                  \n",
            "\u001b[J2           0.472732    0.389261              0.855639       0.889874                  \n",
            "\u001b[J3           0.309022    0.364192              0.911133       0.886193                  \n",
            "\u001b[J4           0.251709    0.35238               0.92663        0.902719                  \n",
            "\u001b[J5           0.204083    0.338162              0.940104       0.905198                  \n",
            "\u001b[J6           0.16419     0.321709              0.957541       0.908654                  \n",
            "\u001b[J7           0.133059    0.303739              0.966471       0.913462                  \n",
            "\u001b[J8           0.118132    0.33343               0.964334       0.908579                  \n",
            "\u001b[J9           0.099463    0.336174              0.970109       0.91226                   \n"
          ],
          "name": "stdout"
        },
        {
          "output_type": "stream",
          "text": [
            "[I 2018-12-03 17:43:49,745] Finished a trial resulted in value: 0.08871694654226303. Current best value is 0.06798377633094788 with parameters: {'n_units': 100.0, 'n_layers': 4, 'activation': 'relu', 'optimizer': 'MomentumSGD', 'momentum_sgd_lr': 0.06468383425047516, 'weight_decay': 0.0007499328180966753}.\n"
          ],
          "name": "stderr"
        },
        {
          "output_type": "stream",
          "text": [
            "epoch       main/loss   validation/main/loss  main/accuracy  validation/main/accuracy\n",
            "\u001b[J1           2.4511      2.31224               0.0999349      0.0935998                 \n",
            "\u001b[J2           2.30404     2.29988               0.102242       0.129432                  \n",
            "\u001b[J3           2.30466     2.30452               0.101562       0.129432                  \n",
            "\u001b[J4           2.30365     2.29968               0.10394        0.129432                  \n",
            "\u001b[J5           2.31342     2.30276               0.0986328      0.129432                  \n",
            "\u001b[J6           2.31419     2.30085               0.0995245      0.129432                  \n",
            "\u001b[J7           2.30841     2.32027               0.107747       0.0952524                 \n",
            "\u001b[J8           2.31057     2.31318               0.109375       0.100586                  \n",
            "\u001b[J9           2.30746     2.3054                0.111753       0.129432                  \n"
          ],
          "name": "stdout"
        },
        {
          "output_type": "stream",
          "text": [
            "[I 2018-12-03 17:43:54,871] Finished a trial resulted in value: 0.8998647835105658. Current best value is 0.06798377633094788 with parameters: {'n_units': 100.0, 'n_layers': 4, 'activation': 'relu', 'optimizer': 'MomentumSGD', 'momentum_sgd_lr': 0.06468383425047516, 'weight_decay': 0.0007499328180966753}.\n"
          ],
          "name": "stderr"
        },
        {
          "output_type": "stream",
          "text": [
            "epoch       main/loss   validation/main/loss  main/accuracy  validation/main/accuracy\n",
            "\u001b[J1           2.29857     2.29451               0.101237       0.111403                  \n",
            "\u001b[J2           2.29489     2.29093               0.105299       0.128005                  \n",
            "\u001b[J3           2.29157     2.28707               0.116862       0.134841                  \n",
            "\u001b[J4           2.28738     2.2832                0.13519        0.16579                   \n",
            "\u001b[J5           2.2838      2.27883               0.162109       0.197416                  \n",
            "\u001b[J6           2.27949     2.27434               0.191916       0.233248                  \n",
            "\u001b[J7           2.27441     2.26913               0.232422       0.276818                  \n",
            "\u001b[J8           2.26968     2.26358               0.255095       0.315505                  \n",
            "\u001b[J9           2.26399     2.25741               0.284986       0.335261                  \n"
          ],
          "name": "stdout"
        },
        {
          "output_type": "stream",
          "text": [
            "[I 2018-12-03 17:43:59,095] Finished a trial resulted in value: 0.6208683885633945. Current best value is 0.06798377633094788 with parameters: {'n_units': 100.0, 'n_layers': 4, 'activation': 'relu', 'optimizer': 'MomentumSGD', 'momentum_sgd_lr': 0.06468383425047516, 'weight_decay': 0.0007499328180966753}.\n"
          ],
          "name": "stderr"
        },
        {
          "output_type": "stream",
          "text": [
            "epoch       main/loss   validation/main/loss  main/accuracy  validation/main/accuracy\n",
            "\u001b[J1           3.14571     2.48998               0.135742       0.183519                  \n",
            "\u001b[J2           1.82283     1.33435               0.307065       0.432467                  \n",
            "\u001b[J3           1.27821     1.15267               0.476562       0.476638                  \n",
            "\u001b[J4           1.09167     1.05748               0.540761       0.626352                  \n",
            "\u001b[J5           0.94526     0.841758              0.647786       0.680514                  \n",
            "\u001b[J6           0.848974    0.929178              0.693274       0.657677                  \n",
            "\u001b[J7           0.809735    0.833166              0.723633       0.717548                  \n",
            "\u001b[J8           0.778077    0.815143              0.734035       0.772461                  \n",
            "\u001b[J9           0.696344    0.718514              0.775136       0.782828                  \n"
          ],
          "name": "stdout"
        },
        {
          "output_type": "stream",
          "text": [
            "[I 2018-12-03 17:44:03,586] Finished a trial resulted in value: 0.22986778616905212. Current best value is 0.06798377633094788 with parameters: {'n_units': 100.0, 'n_layers': 4, 'activation': 'relu', 'optimizer': 'MomentumSGD', 'momentum_sgd_lr': 0.06468383425047516, 'weight_decay': 0.0007499328180966753}.\n"
          ],
          "name": "stderr"
        },
        {
          "output_type": "stream",
          "text": [
            "epoch       main/loss   validation/main/loss  main/accuracy  validation/main/accuracy\n",
            "\u001b[J1           1.42935     0.645904              0.572917       0.825496                  \n",
            "\u001b[J2           0.494717    0.431127              0.865489       0.86884                   \n",
            "\u001b[J3           0.34197     0.351223              0.900716       0.902269                  \n",
            "\u001b[J4           0.278147    0.349559              0.920856       0.89979                   \n",
            "\u001b[J5           0.226372    0.334882              0.939453       0.902494                  \n",
            "\u001b[J6           0.19248     0.32735               0.94837        0.911058                  \n",
            "\u001b[J7           0.162779    0.325476              0.957682       0.910306                  \n",
            "\u001b[J8           0.13437     0.325907              0.964674       0.911508                  \n",
            "\u001b[J9           0.117685    0.316179              0.966372       0.900992                  \n"
          ],
          "name": "stdout"
        },
        {
          "output_type": "stream",
          "text": [
            "[I 2018-12-03 17:44:08,475] Finished a trial resulted in value: 0.09044471383094788. Current best value is 0.06798377633094788 with parameters: {'n_units': 100.0, 'n_layers': 4, 'activation': 'relu', 'optimizer': 'MomentumSGD', 'momentum_sgd_lr': 0.06468383425047516, 'weight_decay': 0.0007499328180966753}.\n"
          ],
          "name": "stderr"
        },
        {
          "output_type": "stream",
          "text": [
            "epoch       main/loss   validation/main/loss  main/accuracy  validation/main/accuracy\n",
            "\u001b[J1           21.4659     2.22303               0.108398       0.177659                  \n",
            "\u001b[J2           2.31559     2.30186               0.101223       0.108173                  \n",
            "\u001b[J3           2.28539     2.29383               0.121745       0.138447                  \n",
            "\u001b[J4           2.32439     2.30059               0.110734       0.0935998                 \n",
            "\u001b[J5           2.30194     2.2832                0.106771       0.100586                  \n",
            "\u001b[J6           2.10029     2.00708               0.178329       0.191031                  \n",
            "\u001b[J7           1.99045     1.88118               0.200846       0.203501                  \n",
            "\u001b[J8           2.0462      2.31104               0.184103       0.0836088                 \n",
            "\u001b[J9           2.46795     2.27367               0.101562       0.0996094                 \n"
          ],
          "name": "stdout"
        },
        {
          "output_type": "stream",
          "text": [
            "[I 2018-12-03 17:44:12,943] Finished a trial resulted in value: 0.8716195914894342. Current best value is 0.06798377633094788 with parameters: {'n_units': 100.0, 'n_layers': 4, 'activation': 'relu', 'optimizer': 'MomentumSGD', 'momentum_sgd_lr': 0.06468383425047516, 'weight_decay': 0.0007499328180966753}.\n"
          ],
          "name": "stderr"
        },
        {
          "output_type": "stream",
          "text": [
            "epoch       main/loss   validation/main/loss  main/accuracy  validation/main/accuracy\n",
            "\u001b[J1           2.43942     2.34454               0.0983073      0.113957                  \n",
            "\u001b[J2           2.32035     2.30565               0.0995245      0.0935998                 \n",
            "\u001b[J3           2.30089     2.30076               0.106771       0.129432                  \n",
            "\u001b[J4           2.30023     2.30021               0.106658       0.129432                  \n",
            "\u001b[J5           2.3008      2.30153               0.0996094      0.0935998                 \n",
            "\u001b[J6           2.29994     2.30001               0.106658       0.129432                  \n",
            "\u001b[J7           2.30041     2.30083               0.10319        0.0935998                 \n",
            "\u001b[J8           2.30015     2.30057               0.107337       0.129432                  \n",
            "\u001b[J9           2.30036     2.30058               0.110054       0.129432                  \n"
          ],
          "name": "stdout"
        },
        {
          "output_type": "stream",
          "text": [
            "[I 2018-12-03 17:44:17,699] Finished a trial resulted in value: 0.9064002400264144. Current best value is 0.06798377633094788 with parameters: {'n_units': 100.0, 'n_layers': 4, 'activation': 'relu', 'optimizer': 'MomentumSGD', 'momentum_sgd_lr': 0.06468383425047516, 'weight_decay': 0.0007499328180966753}.\n"
          ],
          "name": "stderr"
        },
        {
          "output_type": "stream",
          "text": [
            "epoch       main/loss   validation/main/loss  main/accuracy  validation/main/accuracy\n",
            "\u001b[J1           2.10157     1.59134               0.310547       0.566031                  \n",
            "\u001b[J2           1.05212     0.659604              0.65591        0.788386                  \n",
            "\u001b[J3           0.518961    0.409097              0.836589       0.885667                  \n",
            "\u001b[J4           0.327373    0.46855               0.900136       0.875751                  \n",
            "\u001b[J5           0.228654    0.32                  0.931641       0.911959                  \n",
            "\u001b[J6           0.197818    0.295379              0.938179       0.907602                  \n",
            "\u001b[J7           0.185812    0.365245              0.94694        0.898813                  \n",
            "\u001b[J8           0.165937    0.377142              0.951766       0.897912                  \n",
            "\u001b[J9           0.124036    0.421103              0.963655       0.90302                   \n"
          ],
          "name": "stdout"
        },
        {
          "output_type": "stream",
          "text": [
            "[I 2018-12-03 17:44:21,935] Finished a trial resulted in value: 0.08819110691547394. Current best value is 0.06798377633094788 with parameters: {'n_units': 100.0, 'n_layers': 4, 'activation': 'relu', 'optimizer': 'MomentumSGD', 'momentum_sgd_lr': 0.06468383425047516, 'weight_decay': 0.0007499328180966753}.\n"
          ],
          "name": "stderr"
        },
        {
          "output_type": "stream",
          "text": [
            "epoch       main/loss   validation/main/loss  main/accuracy  validation/main/accuracy\n",
            "\u001b[J1           1.42406     0.749464              0.510742       0.751427                  \n",
            "\u001b[J2           0.625638    0.648806              0.801291       0.801532                  \n",
            "\u001b[J3           0.464186    0.541215              0.870443       0.854793                  \n",
            "\u001b[J4           0.39856     0.533491              0.877378       0.845403                  \n",
            "\u001b[J5           0.480443    0.622359              0.860677       0.834811                  \n",
            "\u001b[J6           0.416651    0.430485              0.879416       0.886418                  \n",
            "\u001b[J7           0.320068    0.512117              0.913411       0.877855                  \n",
            "\u001b[J8           0.368303    0.45909               0.890965       0.886418                  \n",
            "\u001b[J9           0.268324    0.385099              0.928329       0.903996                  \n"
          ],
          "name": "stdout"
        },
        {
          "output_type": "stream",
          "text": [
            "[I 2018-12-03 17:44:27,348] Finished a trial resulted in value: 0.12327223271131516. Current best value is 0.06798377633094788 with parameters: {'n_units': 100.0, 'n_layers': 4, 'activation': 'relu', 'optimizer': 'MomentumSGD', 'momentum_sgd_lr': 0.06468383425047516, 'weight_decay': 0.0007499328180966753}.\n"
          ],
          "name": "stderr"
        },
        {
          "output_type": "stream",
          "text": [
            "epoch       main/loss   validation/main/loss  main/accuracy  validation/main/accuracy\n",
            "\u001b[J1           2.30207     2.29977               0.132161       0.1247                    \n",
            "\u001b[J2           2.29784     2.29515               0.139606       0.137846                  \n",
            "\u001b[J3           2.29313     2.29021               0.149089       0.154147                  \n",
            "\u001b[J4           2.28786     2.28522               0.158628       0.16241                   \n",
            "\u001b[J5           2.28325     2.27968               0.169596       0.168269                  \n",
            "\u001b[J6           2.27709     2.27371               0.170516       0.173903                  \n",
            "\u001b[J7           2.27095     2.26671               0.183594       0.191932                  \n",
            "\u001b[J8           2.26413     2.25897               0.202106       0.204102                  \n",
            "\u001b[J9           2.25507     2.24997               0.228601       0.228741                  \n"
          ],
          "name": "stdout"
        },
        {
          "output_type": "stream",
          "text": [
            "[I 2018-12-03 17:44:31,483] Finished a trial resulted in value: 0.7457181476056576. Current best value is 0.06798377633094788 with parameters: {'n_units': 100.0, 'n_layers': 4, 'activation': 'relu', 'optimizer': 'MomentumSGD', 'momentum_sgd_lr': 0.06468383425047516, 'weight_decay': 0.0007499328180966753}.\n"
          ],
          "name": "stderr"
        },
        {
          "output_type": "stream",
          "text": [
            "epoch       main/loss   validation/main/loss  main/accuracy  validation/main/accuracy\n",
            "\u001b[J1           2.28492     2.23378               0.165365       0.236403                  \n",
            "\u001b[J2           1.99947     1.46006               0.320652       0.579177                  \n",
            "\u001b[J3           0.968349    0.651573              0.67806        0.777794                  \n",
            "\u001b[J4           0.483668    0.443047              0.839674       0.861553                  \n",
            "\u001b[J5           0.363381    0.346233              0.894531       0.898588                  \n",
            "\u001b[J6           0.248906    0.381207              0.925611       0.888146                  \n",
            "\u001b[J7           0.221022    0.343985              0.93457        0.903921                  \n",
            "\u001b[J8           0.16069     0.33703               0.954484       0.903696                  \n",
            "\u001b[J9           0.142662    0.327476              0.958899       0.903921                  \n"
          ],
          "name": "stdout"
        },
        {
          "output_type": "stream",
          "text": [
            "[I 2018-12-03 17:44:35,627] Finished a trial resulted in value: 0.08556190133094788. Current best value is 0.06798377633094788 with parameters: {'n_units': 100.0, 'n_layers': 4, 'activation': 'relu', 'optimizer': 'MomentumSGD', 'momentum_sgd_lr': 0.06468383425047516, 'weight_decay': 0.0007499328180966753}.\n"
          ],
          "name": "stderr"
        },
        {
          "output_type": "stream",
          "text": [
            "epoch       main/loss   validation/main/loss  main/accuracy  validation/main/accuracy\n",
            "\u001b[J1           2.01548     1.28063               0.269531       0.549429                  \n",
            "\u001b[J2           1.12629     0.849132              0.605299       0.691857                  \n",
            "\u001b[J3           0.602571    0.589603              0.791341       0.822341                  \n",
            "\u001b[J4           0.367104    0.408888              0.88519        0.875751                  \n",
            "\u001b[J5           0.271084    0.387993              0.913086       0.88131                   \n",
            "\u001b[J6           0.196733    0.31582               0.936821       0.907828                  \n",
            "\u001b[J7           0.167049    0.330869              0.94694        0.909781                  \n",
            "\u001b[J8           0.111445    0.301167              0.966712       0.916391                  \n",
            "\u001b[J9           0.0765819   0.328684              0.97928        0.920748                  \n"
          ],
          "name": "stdout"
        },
        {
          "output_type": "stream",
          "text": [
            "[I 2018-12-03 17:44:39,767] Finished a trial resulted in value: 0.08090444654226303. Current best value is 0.06798377633094788 with parameters: {'n_units': 100.0, 'n_layers': 4, 'activation': 'relu', 'optimizer': 'MomentumSGD', 'momentum_sgd_lr': 0.06468383425047516, 'weight_decay': 0.0007499328180966753}.\n"
          ],
          "name": "stderr"
        },
        {
          "output_type": "stream",
          "text": [
            "epoch       main/loss   validation/main/loss  main/accuracy  validation/main/accuracy\n",
            "\u001b[J1           2.29443     2.27562               0.181966       0.376427                  \n",
            "\u001b[J2           2.2467      2.19644               0.418818       0.449294                  \n",
            "\u001b[J3           2.05796     1.8004                0.471029       0.499174                  \n",
            "\u001b[J4           1.39387     0.97957               0.60462        0.710712                  \n",
            "\u001b[J5           0.796242    0.687506              0.744792       0.780499                  \n",
            "\u001b[J6           0.605251    0.510398              0.800951       0.850811                  \n",
            "\u001b[J7           0.4621      0.503942              0.854492       0.854567                  \n",
            "\u001b[J8           0.401557    0.414914              0.879076       0.879357                  \n",
            "\u001b[J9           0.332622    0.439349              0.898098       0.871544                  \n"
          ],
          "name": "stdout"
        },
        {
          "output_type": "stream",
          "text": [
            "[I 2018-12-03 17:44:43,924] Finished a trial resulted in value: 0.09284855425357819. Current best value is 0.06798377633094788 with parameters: {'n_units': 100.0, 'n_layers': 4, 'activation': 'relu', 'optimizer': 'MomentumSGD', 'momentum_sgd_lr': 0.06468383425047516, 'weight_decay': 0.0007499328180966753}.\n"
          ],
          "name": "stderr"
        },
        {
          "output_type": "stream",
          "text": [
            "epoch       main/loss   validation/main/loss  main/accuracy  validation/main/accuracy\n",
            "\u001b[J1           1.98034     1.71148               0.313477       0.478441                  \n",
            "\u001b[J2           0.912761    0.602374              0.704484       0.838717                  \n",
            "\u001b[J3           0.484643    0.442247              0.854818       0.866136                  \n",
            "\u001b[J4           0.28753     0.368919              0.90591        0.892728                  \n",
            "\u001b[J5           0.233074    0.378231              0.930664       0.898137                  \n",
            "\u001b[J6           0.174193    0.361481              0.942935       0.901292                  \n",
            "\u001b[J7           0.152057    0.322553              0.954753       0.913912                  \n",
            "\u001b[J8           0.114925    0.375856              0.965693       0.906325                  \n",
            "\u001b[J9           0.099446    0.328756              0.967391       0.930063                  \n"
          ],
          "name": "stdout"
        },
        {
          "output_type": "stream",
          "text": [
            "[I 2018-12-03 17:44:48,077] Finished a trial resulted in value: 0.07406850904226303. Current best value is 0.06798377633094788 with parameters: {'n_units': 100.0, 'n_layers': 4, 'activation': 'relu', 'optimizer': 'MomentumSGD', 'momentum_sgd_lr': 0.06468383425047516, 'weight_decay': 0.0007499328180966753}.\n"
          ],
          "name": "stderr"
        },
        {
          "output_type": "stream",
          "text": [
            "epoch       main/loss   validation/main/loss  main/accuracy  validation/main/accuracy\n",
            "\u001b[J1           2.30331     2.30134               0.0761719      0.0806791                 \n",
            "\u001b[J2           2.30141     2.29986               0.0784647      0.0797025                 \n",
            "\u001b[J3           2.29977     2.29828               0.0797526      0.0816556                 \n",
            "\u001b[J4           2.29839     2.29676               0.0784647      0.0836088                 \n",
            "\u001b[J5           2.29678     2.29524               0.0865885      0.0877404                 \n",
            "\u001b[J6           2.2948      2.29377               0.0903533      0.0920974                 \n",
            "\u001b[J7           2.29311     2.29225               0.0979818      0.0952524                 \n",
            "\u001b[J8           2.29183     2.29083               0.101223       0.099384                  \n",
            "\u001b[J9           2.2901      2.28933               0.109715       0.109826                  \n"
          ],
          "name": "stdout"
        },
        {
          "output_type": "stream",
          "text": [
            "[I 2018-12-03 17:44:52,253] Finished a trial resulted in value: 0.8831129800528288. Current best value is 0.06798377633094788 with parameters: {'n_units': 100.0, 'n_layers': 4, 'activation': 'relu', 'optimizer': 'MomentumSGD', 'momentum_sgd_lr': 0.06468383425047516, 'weight_decay': 0.0007499328180966753}.\n"
          ],
          "name": "stderr"
        },
        {
          "output_type": "stream",
          "text": [
            "epoch       main/loss   validation/main/loss  main/accuracy  validation/main/accuracy\n",
            "\u001b[J1           1.97336     1.2634                0.32487        0.562124                  \n",
            "\u001b[J2           0.851584    0.570113              0.715353       0.8279                    \n",
            "\u001b[J3           0.468276    0.520172              0.853516       0.842323                  \n",
            "\u001b[J4           0.342699    0.430908              0.899796       0.871319                  \n",
            "\u001b[J5           0.22437     0.337206              0.932943       0.895433                  \n",
            "\u001b[J6           0.183959    0.34801               0.941916       0.898888                  \n",
            "\u001b[J7           0.119624    0.369319              0.960938       0.900992                  \n",
            "\u001b[J8           0.127582    0.329034              0.955503       0.903471                  \n",
            "\u001b[J9           0.0804609   0.360305              0.975204       0.923227                  \n"
          ],
          "name": "stdout"
        },
        {
          "output_type": "stream",
          "text": [
            "[I 2018-12-03 17:44:56,419] Finished a trial resulted in value: 0.08435997366905212. Current best value is 0.06798377633094788 with parameters: {'n_units': 100.0, 'n_layers': 4, 'activation': 'relu', 'optimizer': 'MomentumSGD', 'momentum_sgd_lr': 0.06468383425047516, 'weight_decay': 0.0007499328180966753}.\n"
          ],
          "name": "stderr"
        },
        {
          "output_type": "stream",
          "text": [
            "epoch       main/loss   validation/main/loss  main/accuracy  validation/main/accuracy\n",
            "\u001b[J1           2.04358     1.2616                0.264648       0.555063                  \n",
            "\u001b[J2           1.74686     1.03789               0.452446       0.648963                  \n",
            "\u001b[J3           0.730661    0.528311              0.767253       0.844501                  \n",
            "\u001b[J4           0.509897    0.396895              0.838655       0.883489                  \n",
            "\u001b[J5           0.363475    0.423223              0.888346       0.886944                  \n",
            "\u001b[J6           0.251814    0.338873              0.925951       0.906851                  \n",
            "\u001b[J7           0.181418    0.301418              0.94694        0.917819                  \n",
            "\u001b[J8           0.144425    0.307599              0.953804       0.922701                  \n",
            "\u001b[J9           0.0940169   0.339702              0.970448       0.918119                  \n"
          ],
          "name": "stdout"
        },
        {
          "output_type": "stream",
          "text": [
            "[I 2018-12-03 17:45:00,543] Finished a trial resulted in value: 0.08240684866905212. Current best value is 0.06798377633094788 with parameters: {'n_units': 100.0, 'n_layers': 4, 'activation': 'relu', 'optimizer': 'MomentumSGD', 'momentum_sgd_lr': 0.06468383425047516, 'weight_decay': 0.0007499328180966753}.\n"
          ],
          "name": "stderr"
        },
        {
          "output_type": "stream",
          "text": [
            "epoch       main/loss   validation/main/loss  main/accuracy  validation/main/accuracy\n",
            "\u001b[J1           2.06263     1.87341               0.318359       0.38146                   \n",
            "\u001b[J2           1.47024     1.0874                0.498641       0.584811                  \n",
            "\u001b[J3           0.824489    0.608855              0.72526        0.818735                  \n",
            "\u001b[J4           0.475256    0.477731              0.852921       0.869892                  \n",
            "\u001b[J5           0.338998    0.352395              0.897135       0.901517                  \n",
            "\u001b[J6           0.239726    0.44085               0.930367       0.887921                  \n",
            "\u001b[J7           0.22727     0.384985              0.935547       0.894456                  \n",
            "\u001b[J8           0.169611    0.313345              0.950068       0.917894                  \n",
            "\u001b[J9           0.155236    0.36165               0.953465       0.897837                  \n"
          ],
          "name": "stdout"
        },
        {
          "output_type": "stream",
          "text": [
            "[I 2018-12-03 17:45:04,661] Finished a trial resulted in value: 0.10554386675357819. Current best value is 0.06798377633094788 with parameters: {'n_units': 100.0, 'n_layers': 4, 'activation': 'relu', 'optimizer': 'MomentumSGD', 'momentum_sgd_lr': 0.06468383425047516, 'weight_decay': 0.0007499328180966753}.\n"
          ],
          "name": "stderr"
        },
        {
          "output_type": "stream",
          "text": [
            "epoch       main/loss   validation/main/loss  main/accuracy  validation/main/accuracy\n",
            "\u001b[J1           2.30007     2.28958               0.101888       0.149038                  \n",
            "\u001b[J2           2.27574     2.25814               0.178329       0.219727                  \n",
            "\u001b[J3           2.23282     2.20213               0.207357       0.212966                  \n",
            "\u001b[J4           2.15616     2.10743               0.238451       0.292218                  \n",
            "\u001b[J5           2.03834     1.9623                0.336589       0.404297                  \n",
            "\u001b[J6           1.86962     1.76875               0.45856        0.507587                  \n",
            "\u001b[J7           1.63259     1.4899                0.544922       0.624324                  \n",
            "\u001b[J8           1.33596     1.18726               0.661005       0.702749                  \n",
            "\u001b[J9           1.03905     0.94947               0.726562       0.737755                  \n"
          ],
          "name": "stdout"
        },
        {
          "output_type": "stream",
          "text": [
            "[I 2018-12-03 17:45:08,742] Finished a trial resulted in value: 0.2582632228732109. Current best value is 0.06798377633094788 with parameters: {'n_units': 100.0, 'n_layers': 4, 'activation': 'relu', 'optimizer': 'MomentumSGD', 'momentum_sgd_lr': 0.06468383425047516, 'weight_decay': 0.0007499328180966753}.\n"
          ],
          "name": "stderr"
        },
        {
          "output_type": "stream",
          "text": [
            "epoch       main/loss   validation/main/loss  main/accuracy  validation/main/accuracy\n",
            "\u001b[J1           2.04212     1.18974               0.326823       0.561599                  \n",
            "\u001b[J2           1.00675     0.691884              0.653872       0.761343                  \n",
            "\u001b[J3           0.442552    0.448194              0.859049       0.869441                  \n",
            "\u001b[J4           0.301887    0.370891              0.902514       0.889348                  \n",
            "\u001b[J5           0.208231    0.396065              0.938802       0.888597                  \n",
            "\u001b[J6           0.157118    0.351014              0.950408       0.909555                  \n",
            "\u001b[J7           0.151358    0.303816              0.952474       0.91902                   \n",
            "\u001b[J8           0.129338    0.34385               0.959239       0.899264                  \n",
            "\u001b[J9           0.109083    0.313875              0.966033       0.917819                  \n"
          ],
          "name": "stdout"
        },
        {
          "output_type": "stream",
          "text": [
            "[I 2018-12-03 17:45:12,901] Finished a trial resulted in value: 0.07234074175357819. Current best value is 0.06798377633094788 with parameters: {'n_units': 100.0, 'n_layers': 4, 'activation': 'relu', 'optimizer': 'MomentumSGD', 'momentum_sgd_lr': 0.06468383425047516, 'weight_decay': 0.0007499328180966753}.\n"
          ],
          "name": "stderr"
        },
        {
          "output_type": "stream",
          "text": [
            "epoch       main/loss   validation/main/loss  main/accuracy  validation/main/accuracy\n",
            "\u001b[J1           2.13493     1.55004               0.270508       0.571364                  \n",
            "\u001b[J2           1.04731     0.768834              0.653533       0.738732                  \n",
            "\u001b[J3           0.503984    0.426965              0.846029       0.872296                  \n",
            "\u001b[J4           0.325866    0.31054               0.897758       0.91549                   \n",
            "\u001b[J5           0.233363    0.350867              0.928385       0.890325                  \n",
            "\u001b[J6           0.173002    0.338677              0.949389       0.900541                  \n",
            "\u001b[J7           0.163182    0.359674              0.947591       0.90595                   \n",
            "\u001b[J8           0.133032    0.314764              0.95822        0.914213                  \n",
            "\u001b[J9           0.110874    0.365555              0.964674       0.901743                  \n"
          ],
          "name": "stdout"
        },
        {
          "output_type": "stream",
          "text": [
            "[I 2018-12-03 17:45:17,127] Finished a trial resulted in value: 0.08120492845773697. Current best value is 0.06798377633094788 with parameters: {'n_units': 100.0, 'n_layers': 4, 'activation': 'relu', 'optimizer': 'MomentumSGD', 'momentum_sgd_lr': 0.06468383425047516, 'weight_decay': 0.0007499328180966753}.\n"
          ],
          "name": "stderr"
        },
        {
          "output_type": "stream",
          "text": [
            "epoch       main/loss   validation/main/loss  main/accuracy  validation/main/accuracy\n",
            "\u001b[J1           2.29945     2.28544               0.100911       0.146484                  \n",
            "\u001b[J2           2.26772     2.24553               0.223505       0.2811                    \n",
            "\u001b[J3           2.19557     2.12423               0.277669       0.334135                  \n",
            "\u001b[J4           1.98654     1.82171               0.445652       0.521785                  \n",
            "\u001b[J5           1.52905     1.17511               0.616211       0.645207                  \n",
            "\u001b[J6           0.976829    0.728914              0.700408       0.794621                  \n",
            "\u001b[J7           0.682196    0.567464              0.771159       0.821364                  \n",
            "\u001b[J8           0.536733    0.494572              0.83322        0.828425                  \n",
            "\u001b[J9           0.432688    0.418293              0.865489       0.870117                  \n"
          ],
          "name": "stdout"
        },
        {
          "output_type": "stream",
          "text": [
            "[I 2018-12-03 17:45:21,261] Finished a trial resulted in value: 0.11478365212678909. Current best value is 0.06798377633094788 with parameters: {'n_units': 100.0, 'n_layers': 4, 'activation': 'relu', 'optimizer': 'MomentumSGD', 'momentum_sgd_lr': 0.06468383425047516, 'weight_decay': 0.0007499328180966753}.\n"
          ],
          "name": "stderr"
        },
        {
          "output_type": "stream",
          "text": [
            "epoch       main/loss   validation/main/loss  main/accuracy  validation/main/accuracy\n",
            "\u001b[J1           1.11684     0.540817              0.655273       0.844126                  \n",
            "\u001b[J2           0.411659    0.429448              0.879076       0.871319                  \n",
            "\u001b[J3           0.310852    0.382989              0.897786       0.890325                  \n",
            "\u001b[J4           0.228242    0.332226              0.935802       0.9064                    \n",
            "\u001b[J5           0.161005    0.314554              0.94987        0.910532                  \n",
            "\u001b[J6           0.124649    0.364087              0.962976       0.897386                  \n",
            "\u001b[J7           0.110859    0.350553              0.96582        0.906851                  \n",
            "\u001b[J8           0.0817529   0.32301               0.975204       0.913687                  \n",
            "\u001b[J9           0.0723476   0.307025              0.977582       0.926382                  \n"
          ],
          "name": "stdout"
        },
        {
          "output_type": "stream",
          "text": [
            "[I 2018-12-03 17:45:25,578] Finished a trial resulted in value: 0.07827524095773697. Current best value is 0.06798377633094788 with parameters: {'n_units': 100.0, 'n_layers': 4, 'activation': 'relu', 'optimizer': 'MomentumSGD', 'momentum_sgd_lr': 0.06468383425047516, 'weight_decay': 0.0007499328180966753}.\n"
          ],
          "name": "stderr"
        },
        {
          "output_type": "stream",
          "text": [
            "epoch       main/loss   validation/main/loss  main/accuracy  validation/main/accuracy\n",
            "\u001b[J1           2.41866     2.3263                0.0970052      0.0836088                 \n",
            "\u001b[J2           2.30573     2.30509               0.0991848      0.129432                  \n",
            "\u001b[J3           2.30849     2.30587               0.0957031      0.108173                  \n",
            "\u001b[J4           2.3126      2.3012                0.0978261      0.129432                  \n",
            "\u001b[J5           2.30693     2.31046               0.0986328      0.108173                  \n",
            "\u001b[J6           2.31467     2.29893               0.0944293      0.129432                  \n",
            "\u001b[J7           2.30543     2.30226               0.101888       0.129432                  \n",
            "\u001b[J8           2.30863     2.30681               0.0998641      0.0952524                 \n",
            "\u001b[J9           2.30894     2.3019                0.10394        0.129432                  \n"
          ],
          "name": "stdout"
        },
        {
          "output_type": "stream",
          "text": [
            "[I 2018-12-03 17:45:30,872] Finished a trial resulted in value: 0.8860426675528288. Current best value is 0.06798377633094788 with parameters: {'n_units': 100.0, 'n_layers': 4, 'activation': 'relu', 'optimizer': 'MomentumSGD', 'momentum_sgd_lr': 0.06468383425047516, 'weight_decay': 0.0007499328180966753}.\n"
          ],
          "name": "stderr"
        },
        {
          "output_type": "stream",
          "text": [
            "epoch       main/loss   validation/main/loss  main/accuracy  validation/main/accuracy\n",
            "\u001b[J1           2.29388     2.26988               0.154297       0.236929                  \n",
            "\u001b[J2           2.24207     2.19937               0.272758       0.296349                  \n",
            "\u001b[J3           2.13584     2.0271                0.29362        0.35607                   \n",
            "\u001b[J4           1.89109     1.68542               0.411345       0.47491                   \n",
            "\u001b[J5           1.47342     1.16925               0.586263       0.739333                  \n",
            "\u001b[J6           1.00068     0.791673              0.740829       0.798002                  \n",
            "\u001b[J7           0.727603    0.605946              0.794271       0.832858                  \n",
            "\u001b[J8           0.585916    0.538766              0.835938       0.842097                  \n",
            "\u001b[J9           0.512141    0.495542              0.851562       0.858173                  \n"
          ],
          "name": "stdout"
        },
        {
          "output_type": "stream",
          "text": [
            "[I 2018-12-03 17:45:34,481] Finished a trial resulted in value: 0.12109375. Current best value is 0.06798377633094788 with parameters: {'n_units': 100.0, 'n_layers': 4, 'activation': 'relu', 'optimizer': 'MomentumSGD', 'momentum_sgd_lr': 0.06468383425047516, 'weight_decay': 0.0007499328180966753}.\n"
          ],
          "name": "stderr"
        },
        {
          "output_type": "stream",
          "text": [
            "epoch       main/loss   validation/main/loss  main/accuracy  validation/main/accuracy\n",
            "\u001b[J1           2.08849     1.17465               0.276693       0.637846                  \n",
            "\u001b[J2           1.46424     0.97748               0.518342       0.739709                  \n",
            "\u001b[J3           0.697307    0.498179              0.786784       0.849609                  \n",
            "\u001b[J4           0.340525    0.366556              0.89572        0.888597                  \n",
            "\u001b[J5           0.268033    0.348343              0.914388       0.89701                   \n",
            "\u001b[J6           0.231043    0.351072              0.92731        0.892803                  \n",
            "\u001b[J7           0.138718    0.382138              0.956055       0.902719                  \n",
            "\u001b[J8           0.136205    0.320006              0.95856        0.907377                  \n",
            "\u001b[J9           0.126078    0.315778              0.960258       0.915415                  \n"
          ],
          "name": "stdout"
        },
        {
          "output_type": "stream",
          "text": [
            "[I 2018-12-03 17:45:38,599] Finished a trial resulted in value: 0.10501802712678909. Current best value is 0.06798377633094788 with parameters: {'n_units': 100.0, 'n_layers': 4, 'activation': 'relu', 'optimizer': 'MomentumSGD', 'momentum_sgd_lr': 0.06468383425047516, 'weight_decay': 0.0007499328180966753}.\n"
          ],
          "name": "stderr"
        },
        {
          "output_type": "stream",
          "text": [
            "epoch       main/loss   validation/main/loss  main/accuracy  validation/main/accuracy\n",
            "\u001b[J1           2.25931     2.17833               0.187174       0.232948                  \n",
            "\u001b[J2           1.96266     1.60224               0.33356        0.50631                   \n",
            "\u001b[J3           1.17556     0.801154              0.653646       0.754132                  \n",
            "\u001b[J4           0.658906    0.518421              0.796535       0.836238                  \n",
            "\u001b[J5           0.46173     0.419503              0.859375       0.870868                  \n",
            "\u001b[J6           0.378867    0.389207              0.883832       0.893029                  \n",
            "\u001b[J7           0.307933    0.36893               0.910482       0.886418                  \n",
            "\u001b[J8           0.270934    0.367452              0.918818       0.895207                  \n",
            "\u001b[J9           0.243134    0.358684              0.92731        0.892052                  \n"
          ],
          "name": "stdout"
        },
        {
          "output_type": "stream",
          "text": [
            "[I 2018-12-03 17:45:42,041] Finished a trial resulted in value: 0.10404146462678909. Current best value is 0.06798377633094788 with parameters: {'n_units': 100.0, 'n_layers': 4, 'activation': 'relu', 'optimizer': 'MomentumSGD', 'momentum_sgd_lr': 0.06468383425047516, 'weight_decay': 0.0007499328180966753}.\n"
          ],
          "name": "stderr"
        },
        {
          "output_type": "stream",
          "text": [
            "epoch       main/loss   validation/main/loss  main/accuracy  validation/main/accuracy\n",
            "\u001b[J1           2.3542      2.33011               0.101888       0.100135                  \n",
            "\u001b[J2           2.33442     2.35899               0.103261       0.0836088                 \n",
            "\u001b[J3           2.33267     2.32717               0.0976562      0.108173                  \n",
            "\u001b[J4           2.31615     2.3056                0.105978       0.129432                  \n",
            "\u001b[J5           2.31831     2.31994               0.0996094      0.0935998                 \n",
            "\u001b[J6           2.31964     2.3149                0.102921       0.100586                  \n",
            "\u001b[J7           2.31882     2.30886               0.108398       0.0935998                 \n",
            "\u001b[J8           2.31845     2.30223               0.0995245      0.0935998                 \n",
            "\u001b[J9           2.31658     2.30861               0.103601       0.100135                  \n"
          ],
          "name": "stdout"
        },
        {
          "output_type": "stream",
          "text": [
            "[I 2018-12-03 17:45:46,737] Finished a trial resulted in value: 0.8705679085105658. Current best value is 0.06798377633094788 with parameters: {'n_units': 100.0, 'n_layers': 4, 'activation': 'relu', 'optimizer': 'MomentumSGD', 'momentum_sgd_lr': 0.06468383425047516, 'weight_decay': 0.0007499328180966753}.\n"
          ],
          "name": "stderr"
        },
        {
          "output_type": "stream",
          "text": [
            "epoch       main/loss   validation/main/loss  main/accuracy  validation/main/accuracy\n",
            "\u001b[J1           1.32228     0.628226              0.556966       0.812876                  \n",
            "\u001b[J2           0.485223    0.435279              0.851902       0.879132                  \n",
            "\u001b[J3           0.369817    0.471818              0.888997       0.863582                  \n",
            "\u001b[J4           0.297211    0.425932              0.909307       0.88439                   \n",
            "\u001b[J5           0.250936    0.515424              0.921875       0.872746                  \n",
            "\u001b[J6           0.258269    0.427505              0.923573       0.895959                  \n",
            "\u001b[J7           0.218028    0.414769              0.933594       0.905649                  \n",
            "\u001b[J8           0.23117     0.475379              0.92663        0.882287                  \n",
            "\u001b[J9           0.231362    0.344883              0.932745       0.907828                  \n"
          ],
          "name": "stdout"
        },
        {
          "output_type": "stream",
          "text": [
            "[I 2018-12-03 17:45:50,977] Finished a trial resulted in value: 0.09532752633094788. Current best value is 0.06798377633094788 with parameters: {'n_units': 100.0, 'n_layers': 4, 'activation': 'relu', 'optimizer': 'MomentumSGD', 'momentum_sgd_lr': 0.06468383425047516, 'weight_decay': 0.0007499328180966753}.\n"
          ],
          "name": "stderr"
        },
        {
          "output_type": "stream",
          "text": [
            "epoch       main/loss   validation/main/loss  main/accuracy  validation/main/accuracy\n",
            "\u001b[J1           2.30093     2.29858               0.110026       0.112755                  \n",
            "\u001b[J2           2.30068     2.29852               0.11413        0.111779                  \n",
            "\u001b[J3           2.30062     2.29846               0.112305       0.112755                  \n",
            "\u001b[J4           2.30053     2.2984                0.11447        0.111779                  \n",
            "\u001b[J5           2.30064     2.29834               0.113281       0.112755                  \n",
            "\u001b[J6           2.30051     2.29828               0.113111       0.112755                  \n",
            "\u001b[J7           2.3005      2.29822               0.113281       0.113732                  \n",
            "\u001b[J8           2.30037     2.29816               0.118207       0.113732                  \n",
            "\u001b[J9           2.30034     2.2981                0.115149       0.113732                  \n"
          ],
          "name": "stdout"
        },
        {
          "output_type": "stream",
          "text": [
            "[I 2018-12-03 17:45:55,073] Finished a trial resulted in value: 0.8862680289894342. Current best value is 0.06798377633094788 with parameters: {'n_units': 100.0, 'n_layers': 4, 'activation': 'relu', 'optimizer': 'MomentumSGD', 'momentum_sgd_lr': 0.06468383425047516, 'weight_decay': 0.0007499328180966753}.\n"
          ],
          "name": "stderr"
        },
        {
          "output_type": "stream",
          "text": [
            "epoch       main/loss   validation/main/loss  main/accuracy  validation/main/accuracy\n",
            "\u001b[J1           1.89538     1.03274               0.35612        0.597731                  \n",
            "\u001b[J2           0.813068    0.514129              0.720109       0.852539                  \n",
            "\u001b[J3           0.440222    0.379697              0.86263        0.890024                  \n",
            "\u001b[J4           0.23999     0.305276              0.925611       0.903996                  \n",
            "\u001b[J5           0.198043    0.365699              0.935221       0.883263                  \n",
            "\u001b[J6           0.164242    0.332569              0.947011       0.910757                  \n",
            "\u001b[J7           0.125651    0.27073               0.960612       0.917819                  \n",
            "\u001b[J8           0.0695238   0.318201              0.977921       0.909781                  \n",
            "\u001b[J9           0.051436    0.319268              0.980978       0.919546                  \n"
          ],
          "name": "stdout"
        },
        {
          "output_type": "stream",
          "text": [
            "[I 2018-12-03 17:45:58,525] Finished a trial resulted in value: 0.08112980425357819. Current best value is 0.06798377633094788 with parameters: {'n_units': 100.0, 'n_layers': 4, 'activation': 'relu', 'optimizer': 'MomentumSGD', 'momentum_sgd_lr': 0.06468383425047516, 'weight_decay': 0.0007499328180966753}.\n"
          ],
          "name": "stderr"
        },
        {
          "output_type": "stream",
          "text": [
            "epoch       main/loss   validation/main/loss  main/accuracy  validation/main/accuracy\n",
            "\u001b[J1           1.89701     1.44549               0.359701       0.584961                  \n",
            "\u001b[J2           0.871985    0.620031              0.715353       0.806716                  \n",
            "\u001b[J3           0.432589    0.47671               0.86556        0.855919                  \n",
            "\u001b[J4           0.302233    0.355452              0.90591        0.89979                   \n",
            "\u001b[J5           0.198105    0.33956               0.939128       0.911508                  \n",
            "\u001b[J6           0.163854    0.340326              0.945652       0.899339                  \n",
            "\u001b[J7           0.146617    0.387148              0.951172       0.9064                    \n",
            "\u001b[J8           0.0983405   0.402211              0.965353       0.902945                  \n",
            "\u001b[J9           0.102632    0.298855              0.969769       0.931265                  \n"
          ],
          "name": "stdout"
        },
        {
          "output_type": "stream",
          "text": [
            "[I 2018-12-03 17:46:02,674] Finished a trial resulted in value: 0.07091346383094788. Current best value is 0.06798377633094788 with parameters: {'n_units': 100.0, 'n_layers': 4, 'activation': 'relu', 'optimizer': 'MomentumSGD', 'momentum_sgd_lr': 0.06468383425047516, 'weight_decay': 0.0007499328180966753}.\n"
          ],
          "name": "stderr"
        },
        {
          "output_type": "stream",
          "text": [
            "epoch       main/loss   validation/main/loss  main/accuracy  validation/main/accuracy\n",
            "\u001b[J1           1.26087     0.799654              0.55957        0.739258                  \n",
            "\u001b[J2           0.463521    0.395595              0.859375       0.871544                  \n",
            "\u001b[J3           0.276923    0.299779              0.91569        0.90933                   \n",
            "\u001b[J4           0.188869    0.335549              0.944973       0.899114                  \n",
            "\u001b[J5           0.131962    0.294315              0.960286       0.919847                  \n",
            "\u001b[J6           0.102041    0.315169              0.971128       0.921049                  \n",
            "\u001b[J7           0.0963771   0.388331              0.971354       0.9064                    \n",
            "\u001b[J8           0.17731     0.363277              0.948709       0.895959                  \n",
            "\u001b[J9           0.103516    0.30725               0.965014       0.936148                  \n"
          ],
          "name": "stdout"
        },
        {
          "output_type": "stream",
          "text": [
            "[I 2018-12-03 17:46:06,725] Finished a trial resulted in value: 0.07361778616905212. Current best value is 0.06798377633094788 with parameters: {'n_units': 100.0, 'n_layers': 4, 'activation': 'relu', 'optimizer': 'MomentumSGD', 'momentum_sgd_lr': 0.06468383425047516, 'weight_decay': 0.0007499328180966753}.\n"
          ],
          "name": "stderr"
        },
        {
          "output_type": "stream",
          "text": [
            "epoch       main/loss   validation/main/loss  main/accuracy  validation/main/accuracy\n",
            "\u001b[J1           2.33098     2.31736               0.0999349      0.0952524                 \n",
            "\u001b[J2           2.331       2.32017               0.102921       0.0836088                 \n",
            "\u001b[J3           2.31657     2.31425               0.103841       0.0935998                 \n",
            "\u001b[J4           2.32606     2.31273               0.103261       0.100135                  \n",
            "\u001b[J5           2.31749     2.31578               0.101237       0.148438                  \n",
            "\u001b[J6           2.31628     2.3335                0.111413       0.0836088                 \n",
            "\u001b[J7           2.31915     2.30684               0.0976562      0.113957                  \n",
            "\u001b[J8           2.31939     2.31833               0.109035       0.129432                  \n",
            "\u001b[J9           2.31493     2.31292               0.109375       0.0836088                 \n"
          ],
          "name": "stdout"
        },
        {
          "output_type": "stream",
          "text": [
            "[I 2018-12-03 17:46:10,935] Finished a trial resulted in value: 0.8705679085105658. Current best value is 0.06798377633094788 with parameters: {'n_units': 100.0, 'n_layers': 4, 'activation': 'relu', 'optimizer': 'MomentumSGD', 'momentum_sgd_lr': 0.06468383425047516, 'weight_decay': 0.0007499328180966753}.\n"
          ],
          "name": "stderr"
        },
        {
          "output_type": "stream",
          "text": [
            "epoch       main/loss   validation/main/loss  main/accuracy  validation/main/accuracy\n",
            "\u001b[J1           1.07799     0.521632              0.677734       0.837515                  \n",
            "\u001b[J2           0.424098    0.430383              0.879076       0.882512                  \n",
            "\u001b[J3           0.306841    0.383698              0.911784       0.886644                  \n",
            "\u001b[J4           0.208801    0.34912               0.9375         0.899114                  \n",
            "\u001b[J5           0.172688    0.323315              0.946615       0.909105                  \n",
            "\u001b[J6           0.117882    0.332804              0.966712       0.916917                  \n",
            "\u001b[J7           0.0798144   0.291424              0.976562       0.915415                  \n",
            "\u001b[J8           0.0617156   0.336374              0.97962        0.907602                  \n",
            "\u001b[J9           0.0593772   0.332057              0.981997       0.919321                  \n"
          ],
          "name": "stdout"
        },
        {
          "output_type": "stream",
          "text": [
            "[I 2018-12-03 17:46:15,767] Finished a trial resulted in value: 0.07046274095773697. Current best value is 0.06798377633094788 with parameters: {'n_units': 100.0, 'n_layers': 4, 'activation': 'relu', 'optimizer': 'MomentumSGD', 'momentum_sgd_lr': 0.06468383425047516, 'weight_decay': 0.0007499328180966753}.\n"
          ],
          "name": "stderr"
        },
        {
          "output_type": "stream",
          "text": [
            "epoch       main/loss   validation/main/loss  main/accuracy  validation/main/accuracy\n",
            "\u001b[J1           2.29884     2.29018               0.122721       0.126202                  \n",
            "\u001b[J2           2.28402     2.2729                0.125          0.137395                  \n",
            "\u001b[J3           2.26455     2.25149               0.138997       0.155198                  \n",
            "\u001b[J4           2.24236     2.22546               0.159647       0.18149                   \n",
            "\u001b[J5           2.21214     2.19015               0.201172       0.235126                  \n",
            "\u001b[J6           2.17197     2.14654               0.269361       0.292894                  \n",
            "\u001b[J7           2.11685     2.08606               0.310872       0.327073                  \n",
            "\u001b[J8           2.04994     2.01355               0.34375        0.368014                  \n",
            "\u001b[J9           1.96407     1.9285                0.37534        0.394081                  \n"
          ],
          "name": "stdout"
        },
        {
          "output_type": "stream",
          "text": [
            "[I 2018-12-03 17:46:19,142] Finished a trial resulted in value: 0.5782001204788685. Current best value is 0.06798377633094788 with parameters: {'n_units': 100.0, 'n_layers': 4, 'activation': 'relu', 'optimizer': 'MomentumSGD', 'momentum_sgd_lr': 0.06468383425047516, 'weight_decay': 0.0007499328180966753}.\n"
          ],
          "name": "stderr"
        },
        {
          "output_type": "stream",
          "text": [
            "epoch       main/loss   validation/main/loss  main/accuracy  validation/main/accuracy\n",
            "\u001b[J1           2.07163     1.18643               0.253255       0.560472                  \n",
            "\u001b[J2           1.48351     0.746072              0.496943       0.774114                  \n",
            "\u001b[J3           0.716382    0.554546              0.772786       0.820012                  \n",
            "\u001b[J4           0.39904     0.369936              0.870924       0.891526                  \n",
            "\u001b[J5           0.288369    0.484369              0.909505       0.867864                  \n",
            "\u001b[J6           0.228398    0.345352              0.925951       0.910532                  \n",
            "\u001b[J7           0.184476    0.311021              0.941081       0.911508                  \n",
            "\u001b[J8           0.156078    0.298287              0.952446       0.916842                  \n",
            "\u001b[J9           0.141333    0.316531              0.953465       0.920823                  \n"
          ],
          "name": "stdout"
        },
        {
          "output_type": "stream",
          "text": [
            "[I 2018-12-03 17:46:23,183] Finished a trial resulted in value: 0.08488582074642181. Current best value is 0.06798377633094788 with parameters: {'n_units': 100.0, 'n_layers': 4, 'activation': 'relu', 'optimizer': 'MomentumSGD', 'momentum_sgd_lr': 0.06468383425047516, 'weight_decay': 0.0007499328180966753}.\n"
          ],
          "name": "stderr"
        },
        {
          "output_type": "stream",
          "text": [
            "epoch       main/loss   validation/main/loss  main/accuracy  validation/main/accuracy\n",
            "\u001b[J1           2.28331     2.2571                0.145182       0.217623                  \n",
            "\u001b[J2           2.22528     2.18376               0.279552       0.360427                  \n",
            "\u001b[J3           2.11863     2.03271               0.408854       0.451322                  \n",
            "\u001b[J4           1.92349     1.78436               0.519361       0.578951                  \n",
            "\u001b[J5           1.62315     1.43965               0.633464       0.6872                    \n",
            "\u001b[J6           1.27992     1.11125               0.744226       0.771259                  \n",
            "\u001b[J7           0.990545    0.869351              0.78418        0.794621                  \n",
            "\u001b[J8           0.789328    0.734283              0.817935       0.814528                  \n",
            "\u001b[J9           0.674619    0.637625              0.834579       0.839168                  \n"
          ],
          "name": "stdout"
        },
        {
          "output_type": "stream",
          "text": [
            "[I 2018-12-03 17:46:27,806] Finished a trial resulted in value: 0.14618389308452606. Current best value is 0.06798377633094788 with parameters: {'n_units': 100.0, 'n_layers': 4, 'activation': 'relu', 'optimizer': 'MomentumSGD', 'momentum_sgd_lr': 0.06468383425047516, 'weight_decay': 0.0007499328180966753}.\n"
          ],
          "name": "stderr"
        },
        {
          "output_type": "stream",
          "text": [
            "epoch       main/loss   validation/main/loss  main/accuracy  validation/main/accuracy\n",
            "\u001b[J1           2.32905     2.35003               0.102539       0.108173                  \n",
            "\u001b[J2           2.3313      2.31464               0.0988451      0.0887169                 \n",
            "\u001b[J3           2.31845     2.3088                0.108073       0.113957                  \n",
            "\u001b[J4           2.3135      2.30631               0.102921       0.113957                  \n",
            "\u001b[J5           2.31229     2.31172               0.107422       0.108173                  \n",
            "\u001b[J6           2.31861     2.3207                0.095788       0.0935998                 \n",
            "\u001b[J7           2.31303     2.31442               0.111328       0.113957                  \n",
            "\u001b[J8           2.3123      2.31731               0.109715       0.108173                  \n",
            "\u001b[J9           2.31582     2.31091               0.0968071      0.0935998                 \n"
          ],
          "name": "stdout"
        },
        {
          "output_type": "stream",
          "text": [
            "[I 2018-12-03 17:46:31,589] Finished a trial resulted in value: 0.8705679085105658. Current best value is 0.06798377633094788 with parameters: {'n_units': 100.0, 'n_layers': 4, 'activation': 'relu', 'optimizer': 'MomentumSGD', 'momentum_sgd_lr': 0.06468383425047516, 'weight_decay': 0.0007499328180966753}.\n"
          ],
          "name": "stderr"
        },
        {
          "output_type": "stream",
          "text": [
            "epoch       main/loss   validation/main/loss  main/accuracy  validation/main/accuracy\n",
            "\u001b[J1           1.00485     0.487011              0.69694        0.851037                  \n",
            "\u001b[J2           0.416989    0.351188              0.878736       0.896334                  \n",
            "\u001b[J3           0.273212    0.334216              0.916341       0.902794                  \n",
            "\u001b[J4           0.176003    0.360519              0.945652       0.903471                  \n",
            "\u001b[J5           0.176856    0.38169               0.937826       0.898588                  \n",
            "\u001b[J6           0.124308    0.34409               0.959918       0.918795                  \n",
            "\u001b[J7           0.0799291   0.341361              0.974609       0.910306                  \n",
            "\u001b[J8           0.0798151   0.318247              0.976562       0.920974                  \n",
            "\u001b[J9           0.0457724   0.320063              0.986073       0.924429                  \n"
          ],
          "name": "stdout"
        },
        {
          "output_type": "stream",
          "text": [
            "[I 2018-12-03 17:46:36,494] Finished a trial resulted in value: 0.07752403616905212. Current best value is 0.06798377633094788 with parameters: {'n_units': 100.0, 'n_layers': 4, 'activation': 'relu', 'optimizer': 'MomentumSGD', 'momentum_sgd_lr': 0.06468383425047516, 'weight_decay': 0.0007499328180966753}.\n"
          ],
          "name": "stderr"
        },
        {
          "output_type": "stream",
          "text": [
            "epoch       main/loss   validation/main/loss  main/accuracy  validation/main/accuracy\n",
            "\u001b[J1           1.83189     1.31838               0.383789       0.608774                  \n",
            "\u001b[J2           0.733663    0.553254              0.763587       0.818585                  \n",
            "\u001b[J3           0.381996    0.347057              0.883789       0.888822                  \n",
            "\u001b[J4           0.269127    0.349147              0.917799       0.88762                   \n",
            "\u001b[J5           0.194742    0.290396              0.938151       0.922476                  \n",
            "\u001b[J6           0.14409     0.305544              0.955842       0.90302                   \n",
            "\u001b[J7           0.10061     0.284635              0.96875        0.924204                  \n",
            "\u001b[J8           0.0997645   0.265453              0.968071       0.926382                  \n",
            "\u001b[J9           0.0601077   0.351317              0.981997       0.90933                   \n"
          ],
          "name": "stdout"
        },
        {
          "output_type": "stream",
          "text": [
            "[I 2018-12-03 17:46:40,251] Finished a trial resulted in value: 0.07459434866905212. Current best value is 0.06798377633094788 with parameters: {'n_units': 100.0, 'n_layers': 4, 'activation': 'relu', 'optimizer': 'MomentumSGD', 'momentum_sgd_lr': 0.06468383425047516, 'weight_decay': 0.0007499328180966753}.\n"
          ],
          "name": "stderr"
        },
        {
          "output_type": "stream",
          "text": [
            "epoch       main/loss   validation/main/loss  main/accuracy  validation/main/accuracy\n",
            "\u001b[J1           2.29326     2.27254               0.152995       0.235802                  \n",
            "\u001b[J2           2.24608     2.20254               0.280231       0.338266                  \n",
            "\u001b[J3           2.1401      2.04532               0.342773       0.347506                  \n",
            "\u001b[J4           1.9355      1.79179               0.392323       0.477088                  \n",
            "\u001b[J5           1.64133     1.45216               0.517253       0.570613                  \n",
            "\u001b[J6           1.30723     1.13087               0.611413       0.747972                  \n",
            "\u001b[J7           1.02783     0.881823              0.75           0.802584                  \n",
            "\u001b[J8           0.828115    0.731598              0.799932       0.812575                  \n",
            "\u001b[J9           0.698744    0.626594              0.818954       0.840895                  \n"
          ],
          "name": "stdout"
        },
        {
          "output_type": "stream",
          "text": [
            "[I 2018-12-03 17:46:43,843] Finished a trial resulted in value: 0.146484375. Current best value is 0.06798377633094788 with parameters: {'n_units': 100.0, 'n_layers': 4, 'activation': 'relu', 'optimizer': 'MomentumSGD', 'momentum_sgd_lr': 0.06468383425047516, 'weight_decay': 0.0007499328180966753}.\n"
          ],
          "name": "stderr"
        },
        {
          "output_type": "stream",
          "text": [
            "epoch       main/loss   validation/main/loss  main/accuracy  validation/main/accuracy\n",
            "\u001b[J1           2.09862     2.30803               0.336914       0.347806                  \n",
            "\u001b[J2           1.56781     0.966816              0.441916       0.669847                  \n",
            "\u001b[J3           0.738276    0.815791              0.763021       0.722882                  \n",
            "\u001b[J4           0.587353    0.488402              0.815557       0.868389                  \n",
            "\u001b[J5           0.328216    0.35512               0.907227       0.904447                  \n",
            "\u001b[J6           0.247592    0.401255              0.926291       0.891076                  \n",
            "\u001b[J7           0.195314    0.276736              0.942057       0.927809                  \n",
            "\u001b[J8           0.136644    0.336346              0.962976       0.910983                  \n",
            "\u001b[J9           0.116703    0.333028              0.962296       0.912184                  \n"
          ],
          "name": "stdout"
        },
        {
          "output_type": "stream",
          "text": [
            "[I 2018-12-03 17:46:47,978] Finished a trial resulted in value: 0.10802283883094788. Current best value is 0.06798377633094788 with parameters: {'n_units': 100.0, 'n_layers': 4, 'activation': 'relu', 'optimizer': 'MomentumSGD', 'momentum_sgd_lr': 0.06468383425047516, 'weight_decay': 0.0007499328180966753}.\n"
          ],
          "name": "stderr"
        },
        {
          "output_type": "stream",
          "text": [
            "epoch       main/loss   validation/main/loss  main/accuracy  validation/main/accuracy\n",
            "\u001b[J1           1.94001     0.984649              0.38151        0.667142                  \n",
            "\u001b[J2           1.02403     0.634436              0.69803        0.829177                  \n",
            "\u001b[J3           0.456939    0.377593              0.859701       0.886418                  \n",
            "\u001b[J4           0.282202    0.306353              0.912024       0.905649                  \n",
            "\u001b[J5           0.193458    0.328901              0.934896       0.892954                  \n",
            "\u001b[J6           0.155124    0.251885              0.949728       0.91857                   \n",
            "\u001b[J7           0.0851358   0.334499              0.974935       0.900691                  \n",
            "\u001b[J8           0.0923132   0.293499              0.96875        0.909555                  \n",
            "\u001b[J9           0.0775295   0.334553              0.975883       0.914964                  \n"
          ],
          "name": "stdout"
        },
        {
          "output_type": "stream",
          "text": [
            "[I 2018-12-03 17:46:51,770] Finished a trial resulted in value: 0.08383413404226303. Current best value is 0.06798377633094788 with parameters: {'n_units': 100.0, 'n_layers': 4, 'activation': 'relu', 'optimizer': 'MomentumSGD', 'momentum_sgd_lr': 0.06468383425047516, 'weight_decay': 0.0007499328180966753}.\n"
          ],
          "name": "stderr"
        },
        {
          "output_type": "stream",
          "text": [
            "Number of finished trials:  100\n",
            "Best trial:\n",
            "  Value:  0.06798377633094788\n",
            "  Params: \n",
            "    n_units: 100.0\n",
            "    n_layers: 4\n",
            "    activation: relu\n",
            "    optimizer: MomentumSGD\n",
            "    momentum_sgd_lr: 0.06468383425047516\n",
            "    weight_decay: 0.0007499328180966753\n",
            "  User attrs:\n",
            "    main/loss: 0.059863834253822766\n",
            "    main/accuracy: 0.9801432291666666\n",
            "    validation/main/loss: 0.30149781703948975\n",
            "    validation/main/accuracy: 0.9320162236690521\n",
            "    epoch: 10\n",
            "    iteration: 235\n",
            "    elapsed_time: 3.6612681579999844\n"
          ],
          "name": "stdout"
        }
      ]
    }
  ]
}