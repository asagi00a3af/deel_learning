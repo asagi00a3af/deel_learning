{
  "nbformat": 4,
  "nbformat_minor": 0,
  "metadata": {
    "colab": {
      "name": "chainer_test.ipynb",
      "version": "0.3.2",
      "provenance": [],
      "include_colab_link": true
    },
    "kernelspec": {
      "name": "python3",
      "display_name": "Python 3"
    },
    "accelerator": "GPU"
  },
  "cells": [
    {
      "cell_type": "markdown",
      "metadata": {
        "id": "view-in-github",
        "colab_type": "text"
      },
      "source": [
        "[View in Colaboratory](https://colab.research.google.com/github/shimo8810/machine_intelligence/blob/master/deep_learning/colab/chainer_test.ipynb)"
      ]
    },
    {
      "metadata": {
        "id": "wLSpHpzNOBrD",
        "colab_type": "code",
        "colab": {}
      },
      "cell_type": "code",
      "source": [
        "!curl https://colab.chainer.org/install | sh -"
      ],
      "execution_count": 0,
      "outputs": []
    },
    {
      "metadata": {
        "id": "Hb0h7jZmOjPZ",
        "colab_type": "code",
        "colab": {}
      },
      "cell_type": "code",
      "source": [
        "import numpy as np\n",
        "import chainer\n",
        "from chainer import cuda, Function, gradient_check, report, training, utils, Variable\n",
        "from chainer import datasets, iterators, optimizers, serializers\n",
        "from chainer import Link, Chain, ChainList\n",
        "import chainer.functions as F\n",
        "import chainer.links as L\n",
        "from chainer.training import extensions\n",
        "from chainer.datasets import mnist"
      ],
      "execution_count": 0,
      "outputs": []
    },
    {
      "metadata": {
        "id": "hezqwgQ6Ompp",
        "colab_type": "code",
        "colab": {
          "base_uri": "https://localhost:8080/",
          "height": 51
        },
        "outputId": "5d041c4d-677d-44dc-adff-052ce2660b2a"
      },
      "cell_type": "code",
      "source": [
        "print('GPU availability:', chainer.cuda.available)\n",
        "print('cuDNN availablility:', chainer.cuda.cudnn_enabled)"
      ],
      "execution_count": 3,
      "outputs": [
        {
          "output_type": "stream",
          "text": [
            "GPU availability: True\n",
            "cuDNN availablility: True\n"
          ],
          "name": "stdout"
        }
      ]
    },
    {
      "metadata": {
        "id": "nOkyYqJsOqai",
        "colab_type": "code",
        "colab": {
          "base_uri": "https://localhost:8080/",
          "height": 85
        },
        "outputId": "1044d270-f863-4715-b4f0-fde673efcb4c"
      },
      "cell_type": "code",
      "source": [
        "train, test = mnist.get_mnist()\n",
        "\n",
        "batchsize = 128\n",
        "\n",
        "train_iter = iterators.SerialIterator(train, batchsize)\n",
        "test_iter = iterators.SerialIterator(test, batchsize, False, False)"
      ],
      "execution_count": 4,
      "outputs": [
        {
          "output_type": "stream",
          "text": [
            "Downloading from http://yann.lecun.com/exdb/mnist/train-images-idx3-ubyte.gz...\n",
            "Downloading from http://yann.lecun.com/exdb/mnist/train-labels-idx1-ubyte.gz...\n",
            "Downloading from http://yann.lecun.com/exdb/mnist/t10k-images-idx3-ubyte.gz...\n",
            "Downloading from http://yann.lecun.com/exdb/mnist/t10k-labels-idx1-ubyte.gz...\n"
          ],
          "name": "stderr"
        }
      ]
    },
    {
      "metadata": {
        "id": "sZ3mtdrGOvaR",
        "colab_type": "code",
        "colab": {}
      },
      "cell_type": "code",
      "source": [
        "class MLP(Chain):\n",
        "\n",
        "    def __init__(self, n_mid_units=100, n_out=10):\n",
        "        super(MLP, self).__init__()\n",
        "        with self.init_scope():\n",
        "            self.l1 = L.Linear(None, n_mid_units)\n",
        "            self.l2 = L.Linear(None, n_mid_units)\n",
        "            self.l3 = L.Linear(None, n_out)\n",
        "\n",
        "    def __call__(self, x):\n",
        "        h1 = F.relu(self.l1(x))\n",
        "        h2 = F.relu(self.l2(h1))\n",
        "        return self.l3(h2)\n",
        "\n",
        "model = MLP()"
      ],
      "execution_count": 0,
      "outputs": []
    },
    {
      "metadata": {
        "id": "FOQ_AoStPDoD",
        "colab_type": "code",
        "colab": {}
      },
      "cell_type": "code",
      "source": [
        "max_epoch = 10\n",
        "\n",
        "model = L.Classifier(model)\n",
        "\n",
        "gpu_id = 0  # Set to -1 if you use CPU\n",
        "if gpu_id >= 0:\n",
        "    model.to_gpu(gpu_id)  # If you use CPU, comment out this line\n",
        "\n",
        "# selection of your optimizing method\n",
        "optimizer = optimizers.MomentumSGD()\n",
        "\n",
        "# Give the optimizer a reference to the model\n",
        "optimizer.setup(model)\n",
        "\n",
        "# Get an updater that uses the Iterator and Optimizer\n",
        "updater = training.StandardUpdater(train_iter, optimizer, device=gpu_id)\n",
        "\n",
        "# Setup a Trainer\n",
        "trainer = training.Trainer(updater, (max_epoch, 'epoch'), out='mnist_result')"
      ],
      "execution_count": 0,
      "outputs": []
    },
    {
      "metadata": {
        "id": "sSuXxNaQPGMG",
        "colab_type": "code",
        "colab": {}
      },
      "cell_type": "code",
      "source": [
        "trainer.extend(extensions.LogReport())\n",
        "trainer.extend(extensions.snapshot(filename='snapshot_epoch-{.updater.epoch}'))\n",
        "trainer.extend(extensions.snapshot_object(model.predictor, filename='model_epoch-{.updater.epoch}'))\n",
        "trainer.extend(extensions.Evaluator(test_iter, model, device=gpu_id))\n",
        "trainer.extend(extensions.PrintReport(['epoch', 'main/loss', 'main/accuracy', 'validation/main/loss', 'validation/main/accuracy', 'elapsed_time']))\n",
        "trainer.extend(extensions.PlotReport(['main/loss', 'validation/main/loss'], x_key='epoch', file_name='loss.png'))\n",
        "trainer.extend(extensions.PlotReport(['main/accuracy', 'validation/main/accuracy'], x_key='epoch', file_name='accuracy.png'))\n",
        "trainer.extend(extensions.dump_graph('main/loss'))"
      ],
      "execution_count": 0,
      "outputs": []
    },
    {
      "metadata": {
        "id": "bm2FLqn-PJHI",
        "colab_type": "code",
        "colab": {
          "base_uri": "https://localhost:8080/",
          "height": 204
        },
        "outputId": "0337aa15-7950-4e19-9023-ace0fdf598b5"
      },
      "cell_type": "code",
      "source": [
        "trainer.run()"
      ],
      "execution_count": 8,
      "outputs": [
        {
          "output_type": "stream",
          "text": [
            "epoch       main/loss   main/accuracy  validation/main/loss  validation/main/accuracy  elapsed_time\n",
            "\u001b[J1           0.557312    0.8435         0.263666              0.92415                   9.98432       \n",
            "\u001b[J2           0.236577    0.932486       0.187873              0.944521                  13.6431       \n",
            "\u001b[J3           0.177971    0.948727       0.150894              0.955696                  17.4151       \n",
            "\u001b[J4           0.142234    0.958884       0.127261              0.960542                  21.138        \n",
            "\u001b[J5           0.117745    0.965735       0.112205              0.964794                  24.8065       \n",
            "\u001b[J6           0.10059     0.971399       0.10604               0.967959                  28.5217       \n",
            "\u001b[J7           0.0875021   0.974963       0.0968096             0.970134                  32.1977       \n",
            "\u001b[J8           0.0778621   0.97708        0.09576               0.970629                  35.8989       \n",
            "\u001b[J9           0.0689073   0.980061       0.0890597             0.971717                  39.6097       \n",
            "\u001b[J10          0.0619451   0.981793       0.0837374             0.97409                   43.3869       \n"
          ],
          "name": "stdout"
        }
      ]
    },
    {
      "metadata": {
        "id": "sCLYHH0I3HYo",
        "colab_type": "code",
        "colab": {
          "base_uri": "https://localhost:8080/",
          "height": 361
        },
        "outputId": "5d243484-9257-43e9-935f-fe6c030fa70b"
      },
      "cell_type": "code",
      "source": [
        "from IPython.display import Image\n",
        "Image('mnist_result/loss.png')"
      ],
      "execution_count": 9,
      "outputs": [
        {
          "output_type": "execute_result",
          "data": {
            "image/png": "[encoded data removed]",
            "text/plain": [
              "<IPython.core.display.Image object>"
            ]
          },
          "metadata": {
            "tags": []
          },
          "execution_count": 9
        }
      ]
    },
    {
      "metadata": {
        "id": "g8GEjoH63KjD",
        "colab_type": "code",
        "colab": {
          "base_uri": "https://localhost:8080/",
          "height": 361
        },
        "outputId": "ca01f70d-427c-42e6-804e-5d24fb90c3a9"
      },
      "cell_type": "code",
      "source": [
        "Image('mnist_result/accuracy.png')"
      ],
      "execution_count": 10,
      "outputs": [
        {
          "output_type": "execute_result",
          "data": {
            "image/png": "[encoded data removed]",
            "text/plain": [
              "<IPython.core.display.Image object>"
            ]
          },
          "metadata": {
            "tags": []
          },
          "execution_count": 10
        }
      ]
    }
  ]
}