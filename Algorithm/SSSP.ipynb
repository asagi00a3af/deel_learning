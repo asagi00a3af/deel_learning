{
 "cells": [
  {
   "cell_type": "markdown",
   "metadata": {},
   "source": [
    "# 単一始点最短経路問題\n",
    "- Bellman-Ford\n",
    "- Dijkstra\n",
    "で最短経路問題を解く.\n",
    "\n",
    "問題は隣接リストで与えられるものとする."
   ]
  },
  {
   "cell_type": "code",
   "execution_count": 1,
   "metadata": {},
   "outputs": [],
   "source": [
    "import math\n",
    "import heapq\n",
    "import networkx as nx\n",
    "import matplotlib.pyplot as plt\n",
    "%matplotlib inline"
   ]
  },
  {
   "cell_type": "code",
   "execution_count": 2,
   "metadata": {},
   "outputs": [
    {
     "name": "stdout",
     "output_type": "stream",
     "text": [
      "0: {1: 2, 2: 5}\n",
      "1: {0: 2, 2: 4, 3: 6, 4: 10}\n",
      "2: {0: 5, 1: 4, 3: 2}\n",
      "3: {1: 6, 2: 2, 5: 1}\n",
      "4: {1: 10, 5: 3, 6: 5}\n",
      "5: {3: 1, 4: 3, 6: 9}\n",
      "6: {4: 5, 5: 9}\n",
      "7\n"
     ]
    }
   ],
   "source": [
    "# 隣接リスト\n",
    "L = [\n",
    "    {1:2, 2:5},\n",
    "    {0:2, 2:4, 3:6, 4:10},\n",
    "    {0:5, 1:4, 3:2},\n",
    "    {1:6, 2:2, 5:1},\n",
    "    {1:10, 5:3, 6:5},\n",
    "    {3:1, 4:3, 6:9},\n",
    "    {4:5, 5:9}\n",
    "]\n",
    "\n",
    "for v, l in enumerate(L):\n",
    "    print(f'{v}:', l)\n",
    "\n",
    "# ノード数\n",
    "num_v = len(L)\n",
    "print(num_v)"
   ]
  },
  {
   "cell_type": "code",
   "execution_count": 3,
   "metadata": {},
   "outputs": [
    {
     "data": {
      "image/png": "[encoded data removed]",
      "text/plain": [
       "<Figure size 432x288 with 1 Axes>"
      ]
     },
     "metadata": {},
     "output_type": "display_data"
    }
   ],
   "source": [
    "# グラフ可視化\n",
    "G = nx.Graph()\n",
    "G.add_nodes_from(list(range(num_v)))\n",
    "\n",
    "# u -w-> v\n",
    "for u, li in enumerate(L):\n",
    "    for v, w in li.items():\n",
    "        G.add_weighted_edges_from([(u, v, w)])\n",
    "\n",
    "edge_labels=dict([((u,v,),d['weight'])\n",
    "                 for u,v,d in G.edges(data=True)])\n",
    "\n",
    "pos = nx.spring_layout(G)\n",
    "nx.draw_networkx_edge_labels(G, pos,edge_labels=edge_labels)\n",
    "nx.draw_networkx(G, pos)\n",
    "plt.axis(\"off\")\n",
    "plt.show()"
   ]
  },
  {
   "cell_type": "markdown",
   "metadata": {},
   "source": [
    "## Bellman–Ford Algorithm\n",
    "\n",
    "始点sからノードiへの最短距離をd[i]とすると,\n",
    "$$d[i] = min\\{d[j] + (jからiへのコスト) | e=(j, i) \\in E\\}$$\n",
    "となる.\n",
    "\n",
    "- グラフがDAGであれば, 漸化式を用いて計算することが可能\n",
    "- DAGでなくても, $d[i]$の初期値をinfにすることで計算可能\n",
    "- 負の閉路がなければ, 各ノードは最大でも1回しか通らないので, 計算量は$\\mathcal{O}(|V|\\times|E|)$程度\n",
    "- 負の閉路がある場合, 負の閉路を無限に周回することでコストが無限に減少していくので,ループ回数が$|V|-1$を超えるので, 判別可能"
   ]
  },
  {
   "cell_type": "code",
   "execution_count": 4,
   "metadata": {},
   "outputs": [
    {
     "name": "stdout",
     "output_type": "stream",
     "text": [
      "[0, 2, 5, 7, 11, 8, 16]\n"
     ]
    }
   ],
   "source": [
    "# スタートノードからの最短距離初期化\n",
    "dist = [math.inf] * num_v\n",
    "dist[0] = 0\n",
    "\n",
    "for _ in range(num_v-1):\n",
    "    for u, li in enumerate(L):\n",
    "        for v, w in li.items():\n",
    "            dist[v] = min(dist[v], dist[u] + w)\n",
    "print(dist)"
   ]
  },
  {
   "cell_type": "markdown",
   "metadata": {},
   "source": [
    "## Dijkstra's Algorithm\n",
    "- ベルマンフォード法では\n",
    "    - d[j]が最短距離でなければ, 更新が無駄になってしまう\n",
    "    - d[j]の値が変化しなくても, 毎回ループで確認しているので無駄\n",
    "- dijkstra法では\n",
    "    - 最短距離が確定したノードと隣接したノードのみ更新\n",
    "    - 最短距離が確定したノードは使用しない\n",
    "\n",
    "dijkstraは\n",
    "1. 距離が最小のノードの値を確定する.\n",
    "2. 確定したノードと隣接するノードの値を更新する.\n",
    "3. 未確定のノードが無くなるまで以上を続ける.\n",
    "\n",
    "未確定ノードの集合をpriority-queueで実装することで計算量が$\\mathcal{O}(|E|\\log{|V|})$程度に"
   ]
  },
  {
   "cell_type": "code",
   "execution_count": 5,
   "metadata": {},
   "outputs": [
    {
     "name": "stdout",
     "output_type": "stream",
     "text": [
      "[0, 2, 5, 7, 11, 8, 16]\n"
     ]
    }
   ],
   "source": [
    "# スタートノードからの最短距離初期化\n",
    "dist = [math.inf] * num_v\n",
    "dist[0] = 0\n",
    "# 未確定のノードのheapq(priority-queue), (weight, node)の順でデータが入ってる\n",
    "q = []\n",
    "heapq.heappush(q, (0, 0))\n",
    "\n",
    "while q:\n",
    "    # u:確定するノード\n",
    "    _, u = heapq.heappop(q)\n",
    "    # uの隣接するノードの距離を更新\n",
    "    for v, w in L[u].items():\n",
    "        if dist[v] > dist[u] + w:\n",
    "            dist[v] = dist[u] + w\n",
    "            heapq.heappush(q, (dist[v], v))\n",
    "print(dist)"
   ]
  }
 ],
 "metadata": {
  "kernelspec": {
   "display_name": "Python 3",
   "language": "python",
   "name": "python3"
  },
  "language_info": {
   "codemirror_mode": {
    "name": "ipython",
    "version": 3
   },
   "file_extension": ".py",
   "mimetype": "text/x-python",
   "name": "python",
   "nbconvert_exporter": "python",
   "pygments_lexer": "ipython3",
   "version": "3.7.2"
  }
 },
 "nbformat": 4,
 "nbformat_minor": 2
}
